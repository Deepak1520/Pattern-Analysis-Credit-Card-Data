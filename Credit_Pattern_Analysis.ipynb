{
 "cells": [
  {
   "cell_type": "code",
<<<<<<< HEAD
   "execution_count": 165,
=======
   "execution_count": 141,
>>>>>>> eaf74c204ed1eb8292e533ebb7217424d7130592
   "id": "9c6a19ff",
   "metadata": {},
   "outputs": [],
   "source": [
    "#importing necessary libraries\n",
    "import numpy as np\n",
    "import pandas as pd"
   ]
  },
  {
   "cell_type": "code",
<<<<<<< HEAD
   "execution_count": 166,
=======
   "execution_count": 142,
>>>>>>> eaf74c204ed1eb8292e533ebb7217424d7130592
   "id": "195c702e",
   "metadata": {},
   "outputs": [
    {
     "data": {
      "text/html": [
       "<div>\n",
       "<style scoped>\n",
       "    .dataframe tbody tr th:only-of-type {\n",
       "        vertical-align: middle;\n",
       "    }\n",
       "\n",
       "    .dataframe tbody tr th {\n",
       "        vertical-align: top;\n",
       "    }\n",
       "\n",
       "    .dataframe thead th {\n",
       "        text-align: right;\n",
       "    }\n",
       "</style>\n",
       "<table border=\"1\" class=\"dataframe\">\n",
       "  <thead>\n",
       "    <tr style=\"text-align: right;\">\n",
       "      <th></th>\n",
       "      <th>APPLICATION_SUBMISSION_TYPE</th>\n",
       "      <th>POSTAL_ADDRESS_TYPE</th>\n",
       "      <th>GENDER</th>\n",
       "      <th>MARITAL_STATUS</th>\n",
       "      <th>RESIDENTIAL_PHONE</th>\n",
       "      <th>RESIDENCE_TYPE</th>\n",
       "      <th>EMAIL</th>\n",
       "      <th>PROFESSIONAL_PHONE</th>\n",
       "      <th>PROFESSION_CODE</th>\n",
       "      <th>OCCUPATION_TYPE</th>\n",
       "      <th>...</th>\n",
       "      <th>QUANT_DEPENDANTS</th>\n",
       "      <th>MONTHS_IN_RESIDENCE</th>\n",
       "      <th>PERSONAL_MONTHLY_INCOME</th>\n",
       "      <th>OTHER_INCOMES</th>\n",
       "      <th>QUANT_BANKING_ACCOUNTS</th>\n",
       "      <th>PERSONAL_ASSETS_VALUE</th>\n",
       "      <th>QUANT_CARS</th>\n",
       "      <th>MONTHS_IN_THE_JOB</th>\n",
       "      <th>AGE</th>\n",
       "      <th>TARGET_LABEL</th>\n",
       "    </tr>\n",
       "  </thead>\n",
       "  <tbody>\n",
       "    <tr>\n",
       "      <th>0</th>\n",
       "      <td>Web</td>\n",
       "      <td>1</td>\n",
       "      <td>F</td>\n",
       "      <td>6</td>\n",
       "      <td>Y</td>\n",
       "      <td>1</td>\n",
       "      <td>1</td>\n",
       "      <td>N</td>\n",
       "      <td>9</td>\n",
       "      <td>4</td>\n",
       "      <td>...</td>\n",
       "      <td>1</td>\n",
       "      <td>15</td>\n",
       "      <td>900.0</td>\n",
       "      <td>0.0</td>\n",
       "      <td>0</td>\n",
       "      <td>0.0</td>\n",
       "      <td>0</td>\n",
       "      <td>0</td>\n",
       "      <td>32</td>\n",
       "      <td>1</td>\n",
       "    </tr>\n",
       "    <tr>\n",
       "      <th>1</th>\n",
       "      <td>Paper</td>\n",
       "      <td>1</td>\n",
       "      <td>F</td>\n",
       "      <td>2</td>\n",
       "      <td>Y</td>\n",
       "      <td>1</td>\n",
       "      <td>1</td>\n",
       "      <td>N</td>\n",
       "      <td>11</td>\n",
       "      <td>4</td>\n",
       "      <td>...</td>\n",
       "      <td>0</td>\n",
       "      <td>1</td>\n",
       "      <td>750.0</td>\n",
       "      <td>0.0</td>\n",
       "      <td>0</td>\n",
       "      <td>0.0</td>\n",
       "      <td>0</td>\n",
       "      <td>0</td>\n",
       "      <td>34</td>\n",
       "      <td>1</td>\n",
       "    </tr>\n",
       "    <tr>\n",
       "      <th>2</th>\n",
       "      <td>Web</td>\n",
       "      <td>1</td>\n",
       "      <td>F</td>\n",
       "      <td>2</td>\n",
       "      <td>Y</td>\n",
       "      <td>1</td>\n",
       "      <td>1</td>\n",
       "      <td>N</td>\n",
       "      <td>11</td>\n",
       "      <td>Missing</td>\n",
       "      <td>...</td>\n",
       "      <td>0</td>\n",
       "      <td>10</td>\n",
       "      <td>500.0</td>\n",
       "      <td>0.0</td>\n",
       "      <td>0</td>\n",
       "      <td>0.0</td>\n",
       "      <td>0</td>\n",
       "      <td>0</td>\n",
       "      <td>27</td>\n",
       "      <td>0</td>\n",
       "    </tr>\n",
       "    <tr>\n",
       "      <th>3</th>\n",
       "      <td>Web</td>\n",
       "      <td>1</td>\n",
       "      <td>F</td>\n",
       "      <td>2</td>\n",
       "      <td>N</td>\n",
       "      <td>Missing</td>\n",
       "      <td>1</td>\n",
       "      <td>N</td>\n",
       "      <td>Missing</td>\n",
       "      <td>Missing</td>\n",
       "      <td>...</td>\n",
       "      <td>0</td>\n",
       "      <td>10</td>\n",
       "      <td>500.0</td>\n",
       "      <td>0.0</td>\n",
       "      <td>0</td>\n",
       "      <td>0.0</td>\n",
       "      <td>0</td>\n",
       "      <td>0</td>\n",
       "      <td>61</td>\n",
       "      <td>0</td>\n",
       "    </tr>\n",
       "    <tr>\n",
       "      <th>4</th>\n",
       "      <td>Web</td>\n",
       "      <td>1</td>\n",
       "      <td>M</td>\n",
       "      <td>2</td>\n",
       "      <td>Y</td>\n",
       "      <td>1</td>\n",
       "      <td>1</td>\n",
       "      <td>N</td>\n",
       "      <td>9</td>\n",
       "      <td>5</td>\n",
       "      <td>...</td>\n",
       "      <td>0</td>\n",
       "      <td>12</td>\n",
       "      <td>1200.0</td>\n",
       "      <td>0.0</td>\n",
       "      <td>0</td>\n",
       "      <td>0.0</td>\n",
       "      <td>0</td>\n",
       "      <td>0</td>\n",
       "      <td>48</td>\n",
       "      <td>1</td>\n",
       "    </tr>\n",
       "  </tbody>\n",
       "</table>\n",
       "<p>5 rows × 22 columns</p>\n",
       "</div>"
      ],
      "text/plain": [
       "  APPLICATION_SUBMISSION_TYPE  POSTAL_ADDRESS_TYPE GENDER  MARITAL_STATUS  \\\n",
       "0                         Web                    1      F               6   \n",
       "1                       Paper                    1      F               2   \n",
       "2                         Web                    1      F               2   \n",
       "3                         Web                    1      F               2   \n",
       "4                         Web                    1      M               2   \n",
       "\n",
       "  RESIDENTIAL_PHONE RESIDENCE_TYPE  EMAIL PROFESSIONAL_PHONE PROFESSION_CODE  \\\n",
       "0                 Y              1      1                  N               9   \n",
       "1                 Y              1      1                  N              11   \n",
       "2                 Y              1      1                  N              11   \n",
       "3                 N        Missing      1                  N         Missing   \n",
       "4                 Y              1      1                  N               9   \n",
       "\n",
       "  OCCUPATION_TYPE  ...  QUANT_DEPENDANTS  MONTHS_IN_RESIDENCE  \\\n",
       "0               4  ...                 1                   15   \n",
       "1               4  ...                 0                    1   \n",
       "2         Missing  ...                 0                   10   \n",
       "3         Missing  ...                 0                   10   \n",
       "4               5  ...                 0                   12   \n",
       "\n",
       "   PERSONAL_MONTHLY_INCOME  OTHER_INCOMES  QUANT_BANKING_ACCOUNTS  \\\n",
       "0                    900.0            0.0                       0   \n",
       "1                    750.0            0.0                       0   \n",
       "2                    500.0            0.0                       0   \n",
       "3                    500.0            0.0                       0   \n",
       "4                   1200.0            0.0                       0   \n",
       "\n",
       "   PERSONAL_ASSETS_VALUE  QUANT_CARS  MONTHS_IN_THE_JOB  AGE  TARGET_LABEL  \n",
       "0                    0.0           0                  0   32             1  \n",
       "1                    0.0           0                  0   34             1  \n",
       "2                    0.0           0                  0   27             0  \n",
       "3                    0.0           0                  0   61             0  \n",
       "4                    0.0           0                  0   48             1  \n",
       "\n",
       "[5 rows x 22 columns]"
      ]
     },
<<<<<<< HEAD
     "execution_count": 166,
=======
     "execution_count": 142,
>>>>>>> eaf74c204ed1eb8292e533ebb7217424d7130592
     "metadata": {},
     "output_type": "execute_result"
    }
   ],
   "source": [
    "#loading the data\n",
    "df = pd.read_csv('Delinquent_customer-Insurance_Premium.csv')\n",
    "df.head()"
   ]
  },
  {
   "cell_type": "code",
<<<<<<< HEAD
   "execution_count": 167,
=======
   "execution_count": 143,
>>>>>>> eaf74c204ed1eb8292e533ebb7217424d7130592
   "id": "fe10cee9",
   "metadata": {},
   "outputs": [
    {
     "data": {
      "text/plain": [
       "(50000, 22)"
      ]
     },
<<<<<<< HEAD
     "execution_count": 167,
=======
     "execution_count": 143,
>>>>>>> eaf74c204ed1eb8292e533ebb7217424d7130592
     "metadata": {},
     "output_type": "execute_result"
    }
   ],
   "source": [
    "#shape of the data\n",
    "df.shape"
   ]
  },
  {
   "cell_type": "code",
<<<<<<< HEAD
   "execution_count": 168,
=======
   "execution_count": 144,
>>>>>>> eaf74c204ed1eb8292e533ebb7217424d7130592
   "id": "504c05e4",
   "metadata": {},
   "outputs": [
    {
     "data": {
      "text/html": [
       "<div>\n",
       "<style scoped>\n",
       "    .dataframe tbody tr th:only-of-type {\n",
       "        vertical-align: middle;\n",
       "    }\n",
       "\n",
       "    .dataframe tbody tr th {\n",
       "        vertical-align: top;\n",
       "    }\n",
       "\n",
       "    .dataframe thead th {\n",
       "        text-align: right;\n",
       "    }\n",
       "</style>\n",
       "<table border=\"1\" class=\"dataframe\">\n",
       "  <thead>\n",
       "    <tr style=\"text-align: right;\">\n",
       "      <th></th>\n",
       "      <th>POSTAL_ADDRESS_TYPE</th>\n",
       "      <th>MARITAL_STATUS</th>\n",
       "      <th>EMAIL</th>\n",
       "      <th>PRODUCT</th>\n",
       "      <th>QUANT_ADDITIONAL_CARDS</th>\n",
       "      <th>QUANT_DEPENDANTS</th>\n",
       "      <th>MONTHS_IN_RESIDENCE</th>\n",
       "      <th>PERSONAL_MONTHLY_INCOME</th>\n",
       "      <th>OTHER_INCOMES</th>\n",
       "      <th>QUANT_BANKING_ACCOUNTS</th>\n",
       "      <th>PERSONAL_ASSETS_VALUE</th>\n",
       "      <th>QUANT_CARS</th>\n",
       "      <th>MONTHS_IN_THE_JOB</th>\n",
       "      <th>AGE</th>\n",
       "      <th>TARGET_LABEL</th>\n",
       "    </tr>\n",
       "  </thead>\n",
       "  <tbody>\n",
       "    <tr>\n",
       "      <th>count</th>\n",
       "      <td>50000.000000</td>\n",
       "      <td>50000.00000</td>\n",
       "      <td>50000.000000</td>\n",
       "      <td>50000.000000</td>\n",
       "      <td>50000.0</td>\n",
       "      <td>50000.000000</td>\n",
       "      <td>50000.000000</td>\n",
       "      <td>50000.000000</td>\n",
       "      <td>50000.000000</td>\n",
       "      <td>50000.000000</td>\n",
       "      <td>5.000000e+04</td>\n",
       "      <td>50000.000000</td>\n",
       "      <td>50000.000000</td>\n",
       "      <td>50000.00000</td>\n",
       "      <td>50000.000000</td>\n",
       "    </tr>\n",
       "    <tr>\n",
       "      <th>mean</th>\n",
       "      <td>1.006540</td>\n",
       "      <td>2.14840</td>\n",
       "      <td>0.802280</td>\n",
       "      <td>1.275700</td>\n",
       "      <td>0.0</td>\n",
       "      <td>0.650520</td>\n",
       "      <td>9.747760</td>\n",
       "      <td>886.678437</td>\n",
       "      <td>35.434760</td>\n",
       "      <td>0.357840</td>\n",
       "      <td>2.322372e+03</td>\n",
       "      <td>0.336140</td>\n",
       "      <td>0.009320</td>\n",
       "      <td>43.24852</td>\n",
       "      <td>0.260820</td>\n",
       "    </tr>\n",
       "    <tr>\n",
       "      <th>std</th>\n",
       "      <td>0.080606</td>\n",
       "      <td>1.32285</td>\n",
       "      <td>0.398284</td>\n",
       "      <td>0.988286</td>\n",
       "      <td>0.0</td>\n",
       "      <td>1.193655</td>\n",
       "      <td>10.258212</td>\n",
       "      <td>7846.959327</td>\n",
       "      <td>891.515142</td>\n",
       "      <td>0.479953</td>\n",
       "      <td>4.235798e+04</td>\n",
       "      <td>0.472392</td>\n",
       "      <td>0.383453</td>\n",
       "      <td>14.98905</td>\n",
       "      <td>0.439086</td>\n",
       "    </tr>\n",
       "    <tr>\n",
       "      <th>min</th>\n",
       "      <td>1.000000</td>\n",
       "      <td>0.00000</td>\n",
       "      <td>0.000000</td>\n",
       "      <td>1.000000</td>\n",
       "      <td>0.0</td>\n",
       "      <td>0.000000</td>\n",
       "      <td>0.000000</td>\n",
       "      <td>60.000000</td>\n",
       "      <td>0.000000</td>\n",
       "      <td>0.000000</td>\n",
       "      <td>0.000000e+00</td>\n",
       "      <td>0.000000</td>\n",
       "      <td>0.000000</td>\n",
       "      <td>6.00000</td>\n",
       "      <td>0.000000</td>\n",
       "    </tr>\n",
       "    <tr>\n",
       "      <th>25%</th>\n",
       "      <td>1.000000</td>\n",
       "      <td>1.00000</td>\n",
       "      <td>1.000000</td>\n",
       "      <td>1.000000</td>\n",
       "      <td>0.0</td>\n",
       "      <td>0.000000</td>\n",
       "      <td>2.000000</td>\n",
       "      <td>360.000000</td>\n",
       "      <td>0.000000</td>\n",
       "      <td>0.000000</td>\n",
       "      <td>0.000000e+00</td>\n",
       "      <td>0.000000</td>\n",
       "      <td>0.000000</td>\n",
       "      <td>31.00000</td>\n",
       "      <td>0.000000</td>\n",
       "    </tr>\n",
       "    <tr>\n",
       "      <th>50%</th>\n",
       "      <td>1.000000</td>\n",
       "      <td>2.00000</td>\n",
       "      <td>1.000000</td>\n",
       "      <td>1.000000</td>\n",
       "      <td>0.0</td>\n",
       "      <td>0.000000</td>\n",
       "      <td>7.000000</td>\n",
       "      <td>500.000000</td>\n",
       "      <td>0.000000</td>\n",
       "      <td>0.000000</td>\n",
       "      <td>0.000000e+00</td>\n",
       "      <td>0.000000</td>\n",
       "      <td>0.000000</td>\n",
       "      <td>41.00000</td>\n",
       "      <td>0.000000</td>\n",
       "    </tr>\n",
       "    <tr>\n",
       "      <th>75%</th>\n",
       "      <td>1.000000</td>\n",
       "      <td>2.00000</td>\n",
       "      <td>1.000000</td>\n",
       "      <td>1.000000</td>\n",
       "      <td>0.0</td>\n",
       "      <td>1.000000</td>\n",
       "      <td>14.000000</td>\n",
       "      <td>800.000000</td>\n",
       "      <td>0.000000</td>\n",
       "      <td>1.000000</td>\n",
       "      <td>0.000000e+00</td>\n",
       "      <td>1.000000</td>\n",
       "      <td>0.000000</td>\n",
       "      <td>53.00000</td>\n",
       "      <td>1.000000</td>\n",
       "    </tr>\n",
       "    <tr>\n",
       "      <th>max</th>\n",
       "      <td>2.000000</td>\n",
       "      <td>7.00000</td>\n",
       "      <td>1.000000</td>\n",
       "      <td>7.000000</td>\n",
       "      <td>0.0</td>\n",
       "      <td>53.000000</td>\n",
       "      <td>228.000000</td>\n",
       "      <td>959000.000000</td>\n",
       "      <td>194344.000000</td>\n",
       "      <td>2.000000</td>\n",
       "      <td>6.000000e+06</td>\n",
       "      <td>1.000000</td>\n",
       "      <td>35.000000</td>\n",
       "      <td>106.00000</td>\n",
       "      <td>1.000000</td>\n",
       "    </tr>\n",
       "  </tbody>\n",
       "</table>\n",
       "</div>"
      ],
      "text/plain": [
       "       POSTAL_ADDRESS_TYPE  MARITAL_STATUS         EMAIL       PRODUCT  \\\n",
       "count         50000.000000     50000.00000  50000.000000  50000.000000   \n",
       "mean              1.006540         2.14840      0.802280      1.275700   \n",
       "std               0.080606         1.32285      0.398284      0.988286   \n",
       "min               1.000000         0.00000      0.000000      1.000000   \n",
       "25%               1.000000         1.00000      1.000000      1.000000   \n",
       "50%               1.000000         2.00000      1.000000      1.000000   \n",
       "75%               1.000000         2.00000      1.000000      1.000000   \n",
       "max               2.000000         7.00000      1.000000      7.000000   \n",
       "\n",
       "       QUANT_ADDITIONAL_CARDS  QUANT_DEPENDANTS  MONTHS_IN_RESIDENCE  \\\n",
       "count                 50000.0      50000.000000         50000.000000   \n",
       "mean                      0.0          0.650520             9.747760   \n",
       "std                       0.0          1.193655            10.258212   \n",
       "min                       0.0          0.000000             0.000000   \n",
       "25%                       0.0          0.000000             2.000000   \n",
       "50%                       0.0          0.000000             7.000000   \n",
       "75%                       0.0          1.000000            14.000000   \n",
       "max                       0.0         53.000000           228.000000   \n",
       "\n",
       "       PERSONAL_MONTHLY_INCOME  OTHER_INCOMES  QUANT_BANKING_ACCOUNTS  \\\n",
       "count             50000.000000   50000.000000            50000.000000   \n",
       "mean                886.678437      35.434760                0.357840   \n",
       "std                7846.959327     891.515142                0.479953   \n",
       "min                  60.000000       0.000000                0.000000   \n",
       "25%                 360.000000       0.000000                0.000000   \n",
       "50%                 500.000000       0.000000                0.000000   \n",
       "75%                 800.000000       0.000000                1.000000   \n",
       "max              959000.000000  194344.000000                2.000000   \n",
       "\n",
       "       PERSONAL_ASSETS_VALUE    QUANT_CARS  MONTHS_IN_THE_JOB          AGE  \\\n",
       "count           5.000000e+04  50000.000000       50000.000000  50000.00000   \n",
       "mean            2.322372e+03      0.336140           0.009320     43.24852   \n",
       "std             4.235798e+04      0.472392           0.383453     14.98905   \n",
       "min             0.000000e+00      0.000000           0.000000      6.00000   \n",
       "25%             0.000000e+00      0.000000           0.000000     31.00000   \n",
       "50%             0.000000e+00      0.000000           0.000000     41.00000   \n",
       "75%             0.000000e+00      1.000000           0.000000     53.00000   \n",
       "max             6.000000e+06      1.000000          35.000000    106.00000   \n",
       "\n",
       "       TARGET_LABEL  \n",
       "count  50000.000000  \n",
       "mean       0.260820  \n",
       "std        0.439086  \n",
       "min        0.000000  \n",
       "25%        0.000000  \n",
       "50%        0.000000  \n",
       "75%        1.000000  \n",
       "max        1.000000  "
      ]
     },
<<<<<<< HEAD
     "execution_count": 168,
=======
     "execution_count": 144,
>>>>>>> eaf74c204ed1eb8292e533ebb7217424d7130592
     "metadata": {},
     "output_type": "execute_result"
    }
   ],
   "source": [
    "df.describe()"
   ]
  },
  {
   "cell_type": "code",
<<<<<<< HEAD
   "execution_count": 169,
=======
   "execution_count": 145,
>>>>>>> eaf74c204ed1eb8292e533ebb7217424d7130592
   "id": "9a4f2116",
   "metadata": {},
   "outputs": [
    {
     "name": "stdout",
     "output_type": "stream",
     "text": [
      "<class 'pandas.core.frame.DataFrame'>\n",
      "RangeIndex: 50000 entries, 0 to 49999\n",
      "Data columns (total 22 columns):\n",
      " #   Column                       Non-Null Count  Dtype  \n",
      "---  ------                       --------------  -----  \n",
      " 0   APPLICATION_SUBMISSION_TYPE  50000 non-null  object \n",
      " 1   POSTAL_ADDRESS_TYPE          50000 non-null  int64  \n",
      " 2   GENDER                       50000 non-null  object \n",
      " 3   MARITAL_STATUS               50000 non-null  int64  \n",
      " 4   RESIDENTIAL_PHONE            50000 non-null  object \n",
      " 5   RESIDENCE_TYPE               50000 non-null  object \n",
      " 6   EMAIL                        50000 non-null  int64  \n",
      " 7   PROFESSIONAL_PHONE           50000 non-null  object \n",
      " 8   PROFESSION_CODE              50000 non-null  object \n",
      " 9   OCCUPATION_TYPE              50000 non-null  object \n",
      " 10  PRODUCT                      50000 non-null  int64  \n",
      " 11  QUANT_ADDITIONAL_CARDS       50000 non-null  int64  \n",
      " 12  QUANT_DEPENDANTS             50000 non-null  int64  \n",
      " 13  MONTHS_IN_RESIDENCE          50000 non-null  int64  \n",
      " 14  PERSONAL_MONTHLY_INCOME      50000 non-null  float64\n",
      " 15  OTHER_INCOMES                50000 non-null  float64\n",
      " 16  QUANT_BANKING_ACCOUNTS       50000 non-null  int64  \n",
      " 17  PERSONAL_ASSETS_VALUE        50000 non-null  float64\n",
      " 18  QUANT_CARS                   50000 non-null  int64  \n",
      " 19  MONTHS_IN_THE_JOB            50000 non-null  int64  \n",
      " 20  AGE                          50000 non-null  int64  \n",
      " 21  TARGET_LABEL                 50000 non-null  int64  \n",
      "dtypes: float64(3), int64(12), object(7)\n",
      "memory usage: 8.4+ MB\n"
     ]
    }
   ],
   "source": [
    "df.info()"
   ]
  },
  {
   "cell_type": "code",
<<<<<<< HEAD
   "execution_count": 170,
=======
   "execution_count": 146,
>>>>>>> eaf74c204ed1eb8292e533ebb7217424d7130592
   "id": "f00ef889",
   "metadata": {},
   "outputs": [],
   "source": [
    "# To make our work easier let's start by getting the features which are highly correlated with the Target_Label"
   ]
  },
  {
   "cell_type": "code",
<<<<<<< HEAD
   "execution_count": 171,
=======
   "execution_count": 147,
>>>>>>> eaf74c204ed1eb8292e533ebb7217424d7130592
   "id": "e118ad28",
   "metadata": {},
   "outputs": [
    {
     "name": "stdout",
     "output_type": "stream",
     "text": [
      "POSTAL_ADDRESS_TYPE       -0.002423\n",
      "MARITAL_STATUS            -0.030380\n",
      "EMAIL                     -0.008067\n",
      "PRODUCT                    0.019293\n",
      "QUANT_ADDITIONAL_CARDS          NaN\n",
      "QUANT_DEPENDANTS           0.012157\n",
      "MONTHS_IN_RESIDENCE       -0.028296\n",
      "PERSONAL_MONTHLY_INCOME    0.002819\n",
      "OTHER_INCOMES              0.004442\n",
      "QUANT_BANKING_ACCOUNTS     0.011997\n",
      "PERSONAL_ASSETS_VALUE     -0.003886\n",
      "QUANT_CARS                 0.011706\n",
      "MONTHS_IN_THE_JOB         -0.007073\n",
      "AGE                       -0.107886\n",
      "TARGET_LABEL               1.000000\n",
      "Name: TARGET_LABEL, dtype: float64\n"
     ]
    }
   ],
   "source": [
    "#correlation matrix\n",
    "correlation_matrix = df.corr()\n",
    "print(correlation_matrix['TARGET_LABEL'])"
   ]
  },
  {
   "cell_type": "code",
<<<<<<< HEAD
   "execution_count": 172,
=======
   "execution_count": 148,
>>>>>>> eaf74c204ed1eb8292e533ebb7217424d7130592
   "id": "f056f98d",
   "metadata": {},
   "outputs": [
    {
     "data": {
      "image/png": "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\n",
      "text/plain": [
       "<Figure size 432x288 with 2 Axes>"
      ]
     },
     "metadata": {
      "needs_background": "light"
     },
     "output_type": "display_data"
    }
   ],
   "source": [
    "#Plot the correlation matrix\n",
    "import seaborn as sns\n",
    "import matplotlib.pyplot as plt\n",
    "\n",
    "sns.heatmap(correlation_matrix, cmap='coolwarm', center=0)\n",
    "plt.show()"
   ]
  },
  {
   "cell_type": "code",
<<<<<<< HEAD
   "execution_count": 173,
=======
   "execution_count": 149,
>>>>>>> eaf74c204ed1eb8292e533ebb7217424d7130592
   "id": "91b90e77",
   "metadata": {},
   "outputs": [
    {
     "name": "stdout",
     "output_type": "stream",
     "text": [
      "AGE                       -0.107886\n",
      "MARITAL_STATUS            -0.030380\n",
      "MONTHS_IN_RESIDENCE       -0.028296\n",
      "EMAIL                     -0.008067\n",
      "MONTHS_IN_THE_JOB         -0.007073\n",
      "PERSONAL_ASSETS_VALUE     -0.003886\n",
      "POSTAL_ADDRESS_TYPE       -0.002423\n",
      "PERSONAL_MONTHLY_INCOME    0.002819\n",
      "OTHER_INCOMES              0.004442\n",
      "QUANT_CARS                 0.011706\n",
      "QUANT_BANKING_ACCOUNTS     0.011997\n",
      "QUANT_DEPENDANTS           0.012157\n",
      "PRODUCT                    0.019293\n",
      "TARGET_LABEL               1.000000\n",
      "QUANT_ADDITIONAL_CARDS          NaN\n",
      "Name: TARGET_LABEL, dtype: float64\n"
     ]
    }
   ],
   "source": [
    "# strongly correlated features\n",
    "top_features = correlation_matrix['TARGET_LABEL'].sort_values(ascending = True)\n",
    "print(top_features)"
   ]
  },
  {
   "cell_type": "code",
<<<<<<< HEAD
   "execution_count": 174,
=======
   "execution_count": 150,
>>>>>>> eaf74c204ed1eb8292e533ebb7217424d7130592
   "id": "0664aed2",
   "metadata": {},
   "outputs": [
    {
     "name": "stdout",
     "output_type": "stream",
     "text": [
      "TARGET_LABEL              1.000000\n",
      "PRODUCT                   0.019293\n",
      "QUANT_DEPENDANTS          0.012157\n",
      "QUANT_BANKING_ACCOUNTS    0.011997\n",
      "QUANT_CARS                0.011706\n",
      "Name: TARGET_LABEL, dtype: float64\n"
     ]
    }
   ],
   "source": [
    "top_five = correlation_matrix['TARGET_LABEL'].nlargest(5)\n",
    "print(top_five)"
   ]
  },
  {
   "cell_type": "code",
<<<<<<< HEAD
   "execution_count": 175,
=======
   "execution_count": 151,
>>>>>>> eaf74c204ed1eb8292e533ebb7217424d7130592
   "id": "ba910174",
   "metadata": {},
   "outputs": [],
   "source": [
    "# we see that APPLICATION_SUBMISSION_TYPE, AGE, MARITAL_STATUS, MONTHS_IN_RESIDENCE, PERSONAL_MONTHLY_INCOME,\n",
    "#  QUANT_CARS, QUANT_BANKING_ACCOUNTS, QUANT_DEPENDANTS are highly correlated with the TARGET_LABEL"
   ]
  },
  {
   "cell_type": "code",
<<<<<<< HEAD
   "execution_count": 176,
=======
   "execution_count": 152,
>>>>>>> eaf74c204ed1eb8292e533ebb7217424d7130592
   "id": "6868c526",
   "metadata": {},
   "outputs": [
    {
     "data": {
      "text/html": [
       "<div>\n",
       "<style scoped>\n",
       "    .dataframe tbody tr th:only-of-type {\n",
       "        vertical-align: middle;\n",
       "    }\n",
       "\n",
       "    .dataframe tbody tr th {\n",
       "        vertical-align: top;\n",
       "    }\n",
       "\n",
       "    .dataframe thead th {\n",
       "        text-align: right;\n",
       "    }\n",
       "</style>\n",
       "<table border=\"1\" class=\"dataframe\">\n",
       "  <thead>\n",
       "    <tr style=\"text-align: right;\">\n",
       "      <th></th>\n",
       "      <th>APPLICATION_SUBMISSION_TYPE</th>\n",
       "      <th>GENDER</th>\n",
       "      <th>AGE</th>\n",
       "      <th>MARITAL_STATUS</th>\n",
       "      <th>MONTHS_IN_RESIDENCE</th>\n",
       "      <th>PERSONAL_MONTHLY_INCOME</th>\n",
       "      <th>QUANT_CARS</th>\n",
       "      <th>QUANT_BANKING_ACCOUNTS</th>\n",
       "      <th>QUANT_DEPENDANTS</th>\n",
       "      <th>TARGET_LABEL</th>\n",
       "    </tr>\n",
       "  </thead>\n",
       "  <tbody>\n",
       "    <tr>\n",
       "      <th>0</th>\n",
       "      <td>Web</td>\n",
       "      <td>F</td>\n",
       "      <td>32</td>\n",
       "      <td>6</td>\n",
       "      <td>15</td>\n",
       "      <td>900.0</td>\n",
       "      <td>0</td>\n",
       "      <td>0</td>\n",
       "      <td>1</td>\n",
       "      <td>1</td>\n",
       "    </tr>\n",
       "    <tr>\n",
       "      <th>1</th>\n",
       "      <td>Paper</td>\n",
       "      <td>F</td>\n",
       "      <td>34</td>\n",
       "      <td>2</td>\n",
       "      <td>1</td>\n",
       "      <td>750.0</td>\n",
       "      <td>0</td>\n",
       "      <td>0</td>\n",
       "      <td>0</td>\n",
       "      <td>1</td>\n",
       "    </tr>\n",
       "    <tr>\n",
       "      <th>2</th>\n",
       "      <td>Web</td>\n",
       "      <td>F</td>\n",
       "      <td>27</td>\n",
       "      <td>2</td>\n",
       "      <td>10</td>\n",
       "      <td>500.0</td>\n",
       "      <td>0</td>\n",
       "      <td>0</td>\n",
       "      <td>0</td>\n",
       "      <td>0</td>\n",
       "    </tr>\n",
       "    <tr>\n",
       "      <th>3</th>\n",
       "      <td>Web</td>\n",
       "      <td>F</td>\n",
       "      <td>61</td>\n",
       "      <td>2</td>\n",
       "      <td>10</td>\n",
       "      <td>500.0</td>\n",
       "      <td>0</td>\n",
       "      <td>0</td>\n",
       "      <td>0</td>\n",
       "      <td>0</td>\n",
       "    </tr>\n",
       "    <tr>\n",
       "      <th>4</th>\n",
       "      <td>Web</td>\n",
       "      <td>M</td>\n",
       "      <td>48</td>\n",
       "      <td>2</td>\n",
       "      <td>12</td>\n",
       "      <td>1200.0</td>\n",
       "      <td>0</td>\n",
       "      <td>0</td>\n",
       "      <td>0</td>\n",
       "      <td>1</td>\n",
       "    </tr>\n",
       "  </tbody>\n",
       "</table>\n",
       "</div>"
      ],
      "text/plain": [
       "  APPLICATION_SUBMISSION_TYPE GENDER  AGE  MARITAL_STATUS  \\\n",
       "0                         Web      F   32               6   \n",
       "1                       Paper      F   34               2   \n",
       "2                         Web      F   27               2   \n",
       "3                         Web      F   61               2   \n",
       "4                         Web      M   48               2   \n",
       "\n",
       "   MONTHS_IN_RESIDENCE  PERSONAL_MONTHLY_INCOME  QUANT_CARS  \\\n",
       "0                   15                    900.0           0   \n",
       "1                    1                    750.0           0   \n",
       "2                   10                    500.0           0   \n",
       "3                   10                    500.0           0   \n",
       "4                   12                   1200.0           0   \n",
       "\n",
       "   QUANT_BANKING_ACCOUNTS  QUANT_DEPENDANTS  TARGET_LABEL  \n",
       "0                       0                 1             1  \n",
       "1                       0                 0             1  \n",
       "2                       0                 0             0  \n",
       "3                       0                 0             0  \n",
       "4                       0                 0             1  "
      ]
     },
<<<<<<< HEAD
     "execution_count": 176,
=======
     "execution_count": 152,
>>>>>>> eaf74c204ed1eb8292e533ebb7217424d7130592
     "metadata": {},
     "output_type": "execute_result"
    }
   ],
   "source": [
    "# make new data set containing above features only\n",
    "\n",
    "imp_features = ['APPLICATION_SUBMISSION_TYPE', 'GENDER', 'AGE' , 'MARITAL_STATUS', 'MONTHS_IN_RESIDENCE', 'PERSONAL_MONTHLY_INCOME','QUANT_CARS', 'QUANT_BANKING_ACCOUNTS','QUANT_DEPENDANTS','TARGET_LABEL']\n",
    "df_impfeatures = df.loc[:,imp_features]\n",
    "df_impfeatures.head()"
   ]
  },
  {
   "cell_type": "code",
<<<<<<< HEAD
   "execution_count": 177,
=======
   "execution_count": 153,
>>>>>>> eaf74c204ed1eb8292e533ebb7217424d7130592
   "id": "4ed87576",
   "metadata": {},
   "outputs": [
    {
     "name": "stdout",
     "output_type": "stream",
     "text": [
      "Rows:  50000\n",
      "Columns:  10\n",
      "APPLICATION_SUBMISSION_TYPE     object\n",
      "GENDER                          object\n",
      "AGE                              int64\n",
      "MARITAL_STATUS                   int64\n",
      "MONTHS_IN_RESIDENCE              int64\n",
      "PERSONAL_MONTHLY_INCOME        float64\n",
      "QUANT_CARS                       int64\n",
      "QUANT_BANKING_ACCOUNTS           int64\n",
      "QUANT_DEPENDANTS                 int64\n",
      "TARGET_LABEL                     int64\n",
      "dtype: object\n"
     ]
    }
   ],
   "source": [
    "#data types of all columns in dataset\n",
    "print(\"Rows: \",df_impfeatures.shape[0])\n",
    "print(\"Columns: \",df_impfeatures.shape[1])\n",
    "print(df_impfeatures.dtypes)"
   ]
  },
  {
   "cell_type": "code",
<<<<<<< HEAD
   "execution_count": 178,
=======
   "execution_count": 154,
>>>>>>> eaf74c204ed1eb8292e533ebb7217424d7130592
   "id": "7bf13100",
   "metadata": {},
   "outputs": [
    {
     "name": "stdout",
     "output_type": "stream",
     "text": [
      "APPLICATION_SUBMISSION_TYPE:\n",
      "Web      28206\n",
      "0        19461\n",
      "Paper     2333\n",
      "Name: APPLICATION_SUBMISSION_TYPE, dtype: int64\n",
      "\n",
      "GENDER:\n",
      "F          30805\n",
      "M          19130\n",
      "N             48\n",
      "Missing       17\n",
      "Name: GENDER, dtype: int64\n",
      "\n",
      "AGE:\n",
      "39     1299\n",
      "36     1286\n",
      "40     1269\n",
      "37     1268\n",
      "41     1253\n",
      "       ... \n",
      "97        2\n",
      "101       1\n",
      "6         1\n",
      "7         1\n",
      "14        1\n",
      "Name: AGE, Length: 89, dtype: int64\n",
      "\n",
      "MONTHS_IN_RESIDENCE:\n",
      "10     7576\n",
      "1      7340\n",
      "0      4695\n",
      "5      3561\n",
      "2      3217\n",
      "       ... \n",
      "71        1\n",
      "90        1\n",
      "82        1\n",
      "100       1\n",
      "89        1\n",
      "Name: MONTHS_IN_RESIDENCE, Length: 88, dtype: int64\n",
      "\n",
      "PERSONAL_MONTHLY_INCOME:\n",
      "350.00     6898\n",
      "500.00     1453\n",
      "400.00     1402\n",
      "380.00     1362\n",
      "600.00     1198\n",
      "           ... \n",
      "412.39        1\n",
      "406.78        1\n",
      "2432.00       1\n",
      "969.49        1\n",
      "719.38        1\n",
      "Name: PERSONAL_MONTHLY_INCOME, Length: 5495, dtype: int64\n",
      "\n",
      "QUANT_CARS:\n",
      "0    33193\n",
      "1    16807\n",
      "Name: QUANT_CARS, dtype: int64\n",
      "\n",
      "QUANT_BANKING_ACCOUNTS:\n",
      "0    32122\n",
      "1    17864\n",
      "2       14\n",
      "Name: QUANT_BANKING_ACCOUNTS, dtype: int64\n",
      "\n",
      "QUANT_DEPENDANTS:\n",
      "0     33655\n",
      "1      7004\n",
      "2      5363\n",
      "3      2465\n",
      "4       860\n",
      "5       365\n",
      "6       139\n",
      "7        65\n",
      "8        35\n",
      "9        14\n",
      "10       13\n",
      "11        7\n",
      "12        6\n",
      "13        4\n",
      "14        3\n",
      "15        1\n",
      "53        1\n",
      "Name: QUANT_DEPENDANTS, dtype: int64\n",
      "\n",
      "TARGET_LABEL:\n",
      "0    36959\n",
      "1    13041\n",
      "Name: TARGET_LABEL, dtype: int64\n",
      "\n"
     ]
    }
   ],
   "source": [
    "#NOW WE WILL BE PERFORMING OUR ANALYSIS ON OUR DATASET WHICH ONLY CONTAINS THE HIGHLY CORRELATED FEATURES\n",
    "\n",
    "# Count the unique values in each column and display in a readable format\n",
    "print(\"APPLICATION_SUBMISSION_TYPE:\\n{}\\n\".format(df_impfeatures['APPLICATION_SUBMISSION_TYPE'].value_counts()))\n",
    "print(\"GENDER:\\n{}\\n\".format(df_impfeatures['GENDER'].value_counts()))\n",
    "print(\"AGE:\\n{}\\n\".format(df_impfeatures['AGE'].value_counts()))\n",
    "print(\"MONTHS_IN_RESIDENCE:\\n{}\\n\".format(df_impfeatures['MONTHS_IN_RESIDENCE'].value_counts()))\n",
    "print(\"PERSONAL_MONTHLY_INCOME:\\n{}\\n\".format(df_impfeatures['PERSONAL_MONTHLY_INCOME'].value_counts()))\n",
    "print(\"QUANT_CARS:\\n{}\\n\".format(df_impfeatures['QUANT_CARS'].value_counts()))\n",
    "print(\"QUANT_BANKING_ACCOUNTS:\\n{}\\n\".format(df_impfeatures['QUANT_BANKING_ACCOUNTS'].value_counts()))\n",
    "print(\"QUANT_DEPENDANTS:\\n{}\\n\".format(df_impfeatures['QUANT_DEPENDANTS'].value_counts()))\n",
    "print(\"TARGET_LABEL:\\n{}\\n\".format(df_impfeatures['TARGET_LABEL'].value_counts()))\n"
   ]
  },
  {
   "cell_type": "code",
<<<<<<< HEAD
   "execution_count": 179,
=======
   "execution_count": 155,
>>>>>>> eaf74c204ed1eb8292e533ebb7217424d7130592
   "id": "c3287a11",
   "metadata": {},
   "outputs": [
    {
     "name": "stdout",
     "output_type": "stream",
     "text": [
      "['F' 'M' 'N' 'Missing']\n"
     ]
    }
   ],
   "source": [
    "print(df_impfeatures['GENDER'].unique())\n",
    "\n",
    "# print(df_impfeatures['AGE'].value_counts())\n",
    "# print(df_impfeatures['MONTHS_IN_RESIDENCE'].unique())\n",
    "# print(df_impfeatures['PERSONAL_MONTHLY_INCOME'].value_counts())\n",
    "# print(df_impfeatures['QUANT_CARS'].value_counts())\n",
    "# print(df_impfeatures['QUANT_BANKING_ACCOUNTS'].unique())\n",
    "# print(df_impfeatures['QUANT_DEPENDANTS'].value_counts())\n",
    "# print(df_impfeatures['TARGET_LABEL'].value_counts())\n"
   ]
  },
  {
   "cell_type": "code",
<<<<<<< HEAD
   "execution_count": 180,
=======
   "execution_count": 156,
>>>>>>> eaf74c204ed1eb8292e533ebb7217424d7130592
   "id": "fa32ed12",
   "metadata": {},
   "outputs": [
    {
     "name": "stdout",
     "output_type": "stream",
     "text": [
      "(50000, 10)\n"
     ]
    }
   ],
   "source": [
    "# Gender column has missing value, so it's better we remove all the rows containing \"Missing\" from our data set\n",
    "\n",
    "print(df_impfeatures.shape) # our data set has 50000 columns\n",
    "\n",
    "df_impfeatures = df_impfeatures[df_impfeatures['GENDER'] != 'Missing']\n",
    "df_impfeatures['APPLICATION_SUBMISSION_TYPE'] = df_impfeatures['APPLICATION_SUBMISSION_TYPE'].replace('0' ,'Other')"
   ]
  },
  {
   "cell_type": "code",
<<<<<<< HEAD
   "execution_count": 181,
=======
   "execution_count": 157,
>>>>>>> eaf74c204ed1eb8292e533ebb7217424d7130592
   "id": "dfa118ff",
   "metadata": {},
   "outputs": [
    {
     "name": "stdout",
     "output_type": "stream",
     "text": [
      "Shape:  (49983, 10)\n",
      "['F' 'M' 'N']\n"
     ]
    }
   ],
   "source": [
    "# our dataset has fewer rows after we removed all the rows containing the \"Missing\"\n",
    "print(\"Shape: \",df_impfeatures.shape)\n",
    "\n",
    "print(df_impfeatures['GENDER'].unique()) # Gender column only has three unique values: F, M, N"
   ]
  },
  {
   "cell_type": "code",
<<<<<<< HEAD
   "execution_count": 182,
=======
   "execution_count": 158,
>>>>>>> eaf74c204ed1eb8292e533ebb7217424d7130592
   "id": "698bb5ef",
   "metadata": {},
   "outputs": [
    {
     "data": {
      "text/plain": [
       "APPLICATION_SUBMISSION_TYPE     object\n",
       "GENDER                          object\n",
       "AGE                              int64\n",
       "MARITAL_STATUS                   int64\n",
       "MONTHS_IN_RESIDENCE              int64\n",
       "PERSONAL_MONTHLY_INCOME        float64\n",
       "QUANT_CARS                       int64\n",
       "QUANT_BANKING_ACCOUNTS           int64\n",
       "QUANT_DEPENDANTS                 int64\n",
       "TARGET_LABEL                     int64\n",
       "dtype: object"
      ]
     },
<<<<<<< HEAD
     "execution_count": 182,
=======
     "execution_count": 158,
>>>>>>> eaf74c204ed1eb8292e533ebb7217424d7130592
     "metadata": {},
     "output_type": "execute_result"
    }
   ],
   "source": [
    "df_impfeatures.dtypes"
   ]
  },
  {
   "cell_type": "markdown",
   "id": "c1401cb9",
   "metadata": {},
   "source": [
    "#  Perform EDA on each of the selected features with the TARGET_LABEL column"
   ]
  },
  {
   "cell_type": "markdown",
   "id": "0593b177",
   "metadata": {},
   "source": [
    "## Application Submission Type"
   ]
  },
  {
   "cell_type": "code",
<<<<<<< HEAD
   "execution_count": 183,
=======
   "execution_count": 159,
>>>>>>> eaf74c204ed1eb8292e533ebb7217424d7130592
   "id": "193f1ec5",
   "metadata": {},
   "outputs": [
    {
     "data": {
      "text/plain": [
       "0        Delinquent\n",
       "1        Delinquent\n",
       "2    Non-Delinquent\n",
       "3    Non-Delinquent\n",
       "4        Delinquent\n",
       "Name: TARGET_LABEL, dtype: object"
      ]
     },
<<<<<<< HEAD
     "execution_count": 183,
=======
     "execution_count": 159,
>>>>>>> eaf74c204ed1eb8292e533ebb7217424d7130592
     "metadata": {},
     "output_type": "execute_result"
    }
   ],
   "source": [
    "#we replace 0 and 1 in target_label column with Non-Delinquent and Delinquent respectively to make it easier \n",
    "#for visualization\n",
    "df_impfeatures['TARGET_LABEL'] = df_impfeatures['TARGET_LABEL'].replace({0:'Non-Delinquent',1:'Delinquent'})\n",
    "df_impfeatures['TARGET_LABEL'].head()"
   ]
  },
  {
   "cell_type": "code",
<<<<<<< HEAD
   "execution_count": 184,
=======
   "execution_count": 160,
>>>>>>> eaf74c204ed1eb8292e533ebb7217424d7130592
   "id": "eadf5e1f",
   "metadata": {},
   "outputs": [],
   "source": [
    "# group the dataset by GENDER and TARGET_LABEL and count the number of instances in each group\n",
    "application_submission_count = df_impfeatures.groupby(['APPLICATION_SUBMISSION_TYPE','TARGET_LABEL']).size().reset_index(name='Count')"
   ]
  },
  {
   "cell_type": "code",
<<<<<<< HEAD
   "execution_count": 185,
=======
   "execution_count": 161,
>>>>>>> eaf74c204ed1eb8292e533ebb7217424d7130592
   "id": "86a915d7",
   "metadata": {},
   "outputs": [
    {
     "name": "stdout",
     "output_type": "stream",
     "text": [
      "TARGET_LABEL                 Delinquent  Non-Delinquent\n",
      "APPLICATION_SUBMISSION_TYPE                            \n",
      "Other                              5232           14216\n",
      "Paper                               524            1808\n",
      "Web                                7278           20925\n"
     ]
    }
   ],
   "source": [
    "# pivot the table to put TARGET_LABEL values into separate columns\n",
    "application_submission_count = application_submission_count.pivot(index='APPLICATION_SUBMISSION_TYPE', columns='TARGET_LABEL', values='Count')\n",
    "print(application_submission_count)"
   ]
  },
  {
   "cell_type": "code",
<<<<<<< HEAD
   "execution_count": 186,
=======
   "execution_count": 162,
>>>>>>> eaf74c204ed1eb8292e533ebb7217424d7130592
   "id": "5d00ddf8",
   "metadata": {},
   "outputs": [],
   "source": [
    "#we see that application submitted online is more likely to be delinquent"
   ]
  },
  {
   "cell_type": "code",
<<<<<<< HEAD
   "execution_count": 187,
=======
   "execution_count": 163,
>>>>>>> eaf74c204ed1eb8292e533ebb7217424d7130592
   "id": "47e0f826",
   "metadata": {
    "scrolled": true
   },
   "outputs": [
    {
     "name": "stdout",
     "output_type": "stream",
     "text": [
      "TARGET_LABEL                 Delinquent  Non-Delinquent  Delinquent %  \\\n",
      "APPLICATION_SUBMISSION_TYPE                                             \n",
      "Other                              5232           14216     26.902509   \n",
      "Paper                               524            1808     22.469983   \n",
      "Web                                7278           20925     25.805765   \n",
      "\n",
      "TARGET_LABEL                 Non-Delinquent %  \n",
      "APPLICATION_SUBMISSION_TYPE                    \n",
      "Other                               73.097491  \n",
      "Paper                               77.530017  \n",
      "Web                                 74.194235  \n"
     ]
    }
   ],
   "source": [
    "application_submission_count['Delinquent %'] = (application_submission_count['Delinquent'] / (application_submission_count['Delinquent'] + application_submission_count['Non-Delinquent'])) * 100\n",
    "application_submission_count['Non-Delinquent %'] = (application_submission_count['Non-Delinquent'] / (application_submission_count['Delinquent'] + application_submission_count['Non-Delinquent'])) * 100\n",
    "print(application_submission_count)\n",
    "# dis"
   ]
  },
  {
   "cell_type": "code",
<<<<<<< HEAD
   "execution_count": 188,
=======
   "execution_count": 164,
>>>>>>> eaf74c204ed1eb8292e533ebb7217424d7130592
   "id": "b23939cb",
   "metadata": {},
   "outputs": [
    {
     "name": "stdout",
     "output_type": "stream",
     "text": [
      "  Submission Method Delinquent % Non-Delinquent %\n",
      "0             Other    26.902509        73.097491\n",
      "1             Paper    22.469983        77.530017\n",
      "2               Web    25.805765        74.194235\n"
     ]
    },
    {
     "name": "stderr",
     "output_type": "stream",
     "text": [
<<<<<<< HEAD
      "/var/folders/xn/gbft823x5mx4sjzwb1jd4c440000gn/T/ipykernel_48269/2003710599.py:7: FutureWarning: The frame.append method is deprecated and will be removed from pandas in a future version. Use pandas.concat instead.\n",
      "  submission_method_percentages = submission_method_percentages.append({'Submission Method': method,\n",
      "/var/folders/xn/gbft823x5mx4sjzwb1jd4c440000gn/T/ipykernel_48269/2003710599.py:7: FutureWarning: The frame.append method is deprecated and will be removed from pandas in a future version. Use pandas.concat instead.\n",
      "  submission_method_percentages = submission_method_percentages.append({'Submission Method': method,\n",
      "/var/folders/xn/gbft823x5mx4sjzwb1jd4c440000gn/T/ipykernel_48269/2003710599.py:7: FutureWarning: The frame.append method is deprecated and will be removed from pandas in a future version. Use pandas.concat instead.\n",
=======
      "/var/folders/xn/gbft823x5mx4sjzwb1jd4c440000gn/T/ipykernel_24762/2003710599.py:7: FutureWarning: The frame.append method is deprecated and will be removed from pandas in a future version. Use pandas.concat instead.\n",
      "  submission_method_percentages = submission_method_percentages.append({'Submission Method': method,\n",
      "/var/folders/xn/gbft823x5mx4sjzwb1jd4c440000gn/T/ipykernel_24762/2003710599.py:7: FutureWarning: The frame.append method is deprecated and will be removed from pandas in a future version. Use pandas.concat instead.\n",
      "  submission_method_percentages = submission_method_percentages.append({'Submission Method': method,\n",
      "/var/folders/xn/gbft823x5mx4sjzwb1jd4c440000gn/T/ipykernel_24762/2003710599.py:7: FutureWarning: The frame.append method is deprecated and will be removed from pandas in a future version. Use pandas.concat instead.\n",
>>>>>>> eaf74c204ed1eb8292e533ebb7217424d7130592
      "  submission_method_percentages = submission_method_percentages.append({'Submission Method': method,\n"
     ]
    }
   ],
   "source": [
    "submission_method_percentages = pd.DataFrame(columns=['Submission Method', 'Delinquent %', 'Non-Delinquent %'])\n",
    "\n",
    "for method in application_submission_count.index:\n",
    "    delinquent_percent = application_submission_count.loc[method, 'Delinquent %']\n",
    "    non_delinquent_percent = application_submission_count.loc[method, 'Non-Delinquent %']\n",
    "    \n",
    "    submission_method_percentages = submission_method_percentages.append({'Submission Method': method,\n",
    "                                                    'Delinquent %': delinquent_percent,\n",
    "                                                    'Non-Delinquent %': non_delinquent_percent},\n",
    "                                                   ignore_index=True)\n",
    "    \n",
    "print(submission_method_percentages)\n"
   ]
  },
  {
   "cell_type": "code",
<<<<<<< HEAD
   "execution_count": 189,
=======
   "execution_count": 165,
>>>>>>> eaf74c204ed1eb8292e533ebb7217424d7130592
   "id": "84455a3c",
   "metadata": {},
   "outputs": [],
   "source": [
    "#we see that applications submitted through 'other(0)' method has the highest likelihood(26.90%) of delinquency out of all \n",
    "#methods"
   ]
  },
  {
   "cell_type": "code",
<<<<<<< HEAD
   "execution_count": 190,
=======
   "execution_count": 166,
>>>>>>> eaf74c204ed1eb8292e533ebb7217424d7130592
   "id": "16d4dba9",
   "metadata": {},
   "outputs": [],
   "source": [
    "import seaborn as sns\n",
    "import matplotlib.pyplot as plt"
   ]
  },
  {
   "cell_type": "code",
<<<<<<< HEAD
   "execution_count": 191,
=======
   "execution_count": 167,
>>>>>>> eaf74c204ed1eb8292e533ebb7217424d7130592
   "id": "9895d0c2",
   "metadata": {},
   "outputs": [
    {
     "data": {
      "image/png": "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\n",
      "text/plain": [
       "<Figure size 864x432 with 1 Axes>"
      ]
     },
     "metadata": {
      "needs_background": "light"
     },
     "output_type": "display_data"
    }
   ],
   "source": [
    "fig, ax = plt.subplots(figsize = (12,6))\n",
    "sns.countplot(x=df_impfeatures['APPLICATION_SUBMISSION_TYPE'], hue='TARGET_LABEL', data=df_impfeatures, ax=ax)\n",
    "ax.set_title(\"Distribution By Application Type\")\n",
    "plt.show()\n",
    "\n",
    "#the plot below supports our claim"
   ]
  },
  {
   "cell_type": "markdown",
   "id": "a5cb2965",
   "metadata": {},
   "source": [
    "\n",
    "\n",
    "\n",
    "\n",
    "\n",
    "\n",
    "\n",
    "## Age"
   ]
  },
  {
   "cell_type": "code",
<<<<<<< HEAD
   "execution_count": 192,
=======
   "execution_count": 168,
>>>>>>> eaf74c204ed1eb8292e533ebb7217424d7130592
   "id": "5cb550c3",
   "metadata": {},
   "outputs": [
    {
     "data": {
      "text/plain": [
       "array([ 32,  34,  27,  61,  48,  40,  28,  31,  41,  36,  29,  19,  49,\n",
       "        58,  69,  39,  42,  47,  30,  26,  60,  45,  56,  71,  38,  53,\n",
       "        79,  22,  37,  55,  25,  67,  21,  50,  51,  84,  43,  44,  57,\n",
       "        33,  20,  63,  62,  24,  54,  64,  92,  65,  73,  91,  35,  76,\n",
       "        80,  59,  46,  70,  66,  52,  23,  77,  68,  18,  74,  72,  75,\n",
       "        78,  83,  81,  98,  97,  85,  90,  87,  82,  17,  86,  94,  89,\n",
       "        88,  96, 106,  95,  99, 101,  93,   6, 100,   7,  14])"
      ]
     },
<<<<<<< HEAD
     "execution_count": 192,
=======
     "execution_count": 168,
>>>>>>> eaf74c204ed1eb8292e533ebb7217424d7130592
     "metadata": {},
     "output_type": "execute_result"
    }
   ],
   "source": [
    "df_impfeatures['AGE'].unique()"
   ]
  },
  {
   "cell_type": "code",
<<<<<<< HEAD
   "execution_count": 193,
=======
   "execution_count": 169,
>>>>>>> eaf74c204ed1eb8292e533ebb7217424d7130592
   "id": "c6e9ef2e",
   "metadata": {},
   "outputs": [
    {
     "data": {
      "image/png": "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\n",
      "text/plain": [
       "<Figure size 864x288 with 2 Axes>"
      ]
     },
     "metadata": {
      "needs_background": "light"
     },
     "output_type": "display_data"
    }
   ],
   "source": [
    "# create separate dataframes for each target label value\n",
    "df_target_0 = df_impfeatures[df_impfeatures['TARGET_LABEL'] == 'Non-Delinquent']\n",
    "df_target_1 = df_impfeatures[df_impfeatures['TARGET_LABEL'] == 'Delinquent']\n",
    "\n",
    "\n",
    "# create histograms for AGE for both dataframes\n",
    "fig, (ax1, ax2) = plt.subplots(ncols=2, figsize=(12, 4))\n",
    "sns.histplot(x=df_target_0['AGE'], ax=ax1)\n",
    "ax1.set(title='AGE distribution for Non-Delinquent')\n",
    "sns.histplot(x=df_target_1['AGE'], ax=ax2)\n",
    "ax2.set(title='AGE distribution for Delinquent')\n",
    "plt.show()\n"
   ]
  },
  {
   "cell_type": "code",
<<<<<<< HEAD
   "execution_count": 194,
=======
   "execution_count": 170,
>>>>>>> eaf74c204ed1eb8292e533ebb7217424d7130592
   "id": "9e3f4182",
   "metadata": {},
   "outputs": [
    {
     "data": {
      "image/png": "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\n",
      "text/plain": [
       "<Figure size 864x288 with 1 Axes>"
      ]
     },
     "metadata": {
      "needs_background": "light"
     },
     "output_type": "display_data"
    }
   ],
   "source": [
    "plt.figure(figsize = (12,4))\n",
    "sns.boxplot(x='TARGET_LABEL', y='AGE', data=df_impfeatures)\n",
    "plt.title('Age Distribution of Delinquent and Non-Delinquent Customers')\n",
    "plt.show()"
   ]
  },
  {
   "cell_type": "code",
<<<<<<< HEAD
   "execution_count": 195,
=======
   "execution_count": 171,
>>>>>>> eaf74c204ed1eb8292e533ebb7217424d7130592
   "id": "c328924a",
   "metadata": {},
   "outputs": [],
   "source": [
    "#two plots above shows that customers between the age group of 25-50 are equally\n",
    "#likely to be delinquent and non-delinquent"
   ]
  },
  {
   "cell_type": "markdown",
   "id": "d98cb9ee",
   "metadata": {},
   "source": [
    "### Extra for Age"
   ]
  },
  {
   "cell_type": "code",
<<<<<<< HEAD
   "execution_count": 196,
=======
   "execution_count": 172,
>>>>>>> eaf74c204ed1eb8292e533ebb7217424d7130592
   "id": "db0e4111",
   "metadata": {},
   "outputs": [
    {
     "data": {
      "text/html": [
       "<div>\n",
       "<style scoped>\n",
       "    .dataframe tbody tr th:only-of-type {\n",
       "        vertical-align: middle;\n",
       "    }\n",
       "\n",
       "    .dataframe tbody tr th {\n",
       "        vertical-align: top;\n",
       "    }\n",
       "\n",
       "    .dataframe thead th {\n",
       "        text-align: right;\n",
       "    }\n",
       "</style>\n",
       "<table border=\"1\" class=\"dataframe\">\n",
       "  <thead>\n",
       "    <tr style=\"text-align: right;\">\n",
       "      <th></th>\n",
       "      <th>APPLICATION_SUBMISSION_TYPE</th>\n",
       "      <th>GENDER</th>\n",
       "      <th>AGE</th>\n",
       "      <th>MARITAL_STATUS</th>\n",
       "      <th>MONTHS_IN_RESIDENCE</th>\n",
       "      <th>PERSONAL_MONTHLY_INCOME</th>\n",
       "      <th>QUANT_CARS</th>\n",
       "      <th>QUANT_BANKING_ACCOUNTS</th>\n",
       "      <th>QUANT_DEPENDANTS</th>\n",
       "      <th>TARGET_LABEL</th>\n",
       "    </tr>\n",
       "  </thead>\n",
       "  <tbody>\n",
       "    <tr>\n",
       "      <th>0</th>\n",
       "      <td>Web</td>\n",
       "      <td>F</td>\n",
       "      <td>32</td>\n",
       "      <td>6</td>\n",
       "      <td>15</td>\n",
       "      <td>900.0</td>\n",
       "      <td>0</td>\n",
       "      <td>0</td>\n",
       "      <td>1</td>\n",
       "      <td>Delinquent</td>\n",
       "    </tr>\n",
       "    <tr>\n",
       "      <th>1</th>\n",
       "      <td>Paper</td>\n",
       "      <td>F</td>\n",
       "      <td>34</td>\n",
       "      <td>2</td>\n",
       "      <td>1</td>\n",
       "      <td>750.0</td>\n",
       "      <td>0</td>\n",
       "      <td>0</td>\n",
       "      <td>0</td>\n",
       "      <td>Delinquent</td>\n",
       "    </tr>\n",
       "    <tr>\n",
       "      <th>2</th>\n",
       "      <td>Web</td>\n",
       "      <td>F</td>\n",
       "      <td>27</td>\n",
       "      <td>2</td>\n",
       "      <td>10</td>\n",
       "      <td>500.0</td>\n",
       "      <td>0</td>\n",
       "      <td>0</td>\n",
       "      <td>0</td>\n",
       "      <td>Non-Delinquent</td>\n",
       "    </tr>\n",
       "    <tr>\n",
       "      <th>3</th>\n",
       "      <td>Web</td>\n",
       "      <td>F</td>\n",
       "      <td>61</td>\n",
       "      <td>2</td>\n",
       "      <td>10</td>\n",
       "      <td>500.0</td>\n",
       "      <td>0</td>\n",
       "      <td>0</td>\n",
       "      <td>0</td>\n",
       "      <td>Non-Delinquent</td>\n",
       "    </tr>\n",
       "    <tr>\n",
       "      <th>4</th>\n",
       "      <td>Web</td>\n",
       "      <td>M</td>\n",
       "      <td>48</td>\n",
       "      <td>2</td>\n",
       "      <td>12</td>\n",
       "      <td>1200.0</td>\n",
       "      <td>0</td>\n",
       "      <td>0</td>\n",
       "      <td>0</td>\n",
       "      <td>Delinquent</td>\n",
       "    </tr>\n",
       "  </tbody>\n",
       "</table>\n",
       "</div>"
      ],
      "text/plain": [
       "  APPLICATION_SUBMISSION_TYPE GENDER  AGE  MARITAL_STATUS  \\\n",
       "0                         Web      F   32               6   \n",
       "1                       Paper      F   34               2   \n",
       "2                         Web      F   27               2   \n",
       "3                         Web      F   61               2   \n",
       "4                         Web      M   48               2   \n",
       "\n",
       "   MONTHS_IN_RESIDENCE  PERSONAL_MONTHLY_INCOME  QUANT_CARS  \\\n",
       "0                   15                    900.0           0   \n",
       "1                    1                    750.0           0   \n",
       "2                   10                    500.0           0   \n",
       "3                   10                    500.0           0   \n",
       "4                   12                   1200.0           0   \n",
       "\n",
       "   QUANT_BANKING_ACCOUNTS  QUANT_DEPENDANTS    TARGET_LABEL  \n",
       "0                       0                 1      Delinquent  \n",
       "1                       0                 0      Delinquent  \n",
       "2                       0                 0  Non-Delinquent  \n",
       "3                       0                 0  Non-Delinquent  \n",
       "4                       0                 0      Delinquent  "
      ]
     },
<<<<<<< HEAD
     "execution_count": 196,
=======
     "execution_count": 172,
>>>>>>> eaf74c204ed1eb8292e533ebb7217424d7130592
     "metadata": {},
     "output_type": "execute_result"
    }
   ],
   "source": [
    "df_temp = df_impfeatures\n",
    "df_temp.head()"
   ]
  },
  {
   "cell_type": "code",
<<<<<<< HEAD
   "execution_count": 197,
=======
   "execution_count": 173,
>>>>>>> eaf74c204ed1eb8292e533ebb7217424d7130592
   "id": "4b371295",
   "metadata": {},
   "outputs": [
    {
     "data": {
      "text/html": [
       "<div>\n",
       "<style scoped>\n",
       "    .dataframe tbody tr th:only-of-type {\n",
       "        vertical-align: middle;\n",
       "    }\n",
       "\n",
       "    .dataframe tbody tr th {\n",
       "        vertical-align: top;\n",
       "    }\n",
       "\n",
       "    .dataframe thead th {\n",
       "        text-align: right;\n",
       "    }\n",
       "</style>\n",
       "<table border=\"1\" class=\"dataframe\">\n",
       "  <thead>\n",
       "    <tr style=\"text-align: right;\">\n",
       "      <th></th>\n",
       "      <th>APPLICATION_SUBMISSION_TYPE</th>\n",
       "      <th>GENDER</th>\n",
       "      <th>AGE</th>\n",
       "      <th>MARITAL_STATUS</th>\n",
       "      <th>MONTHS_IN_RESIDENCE</th>\n",
       "      <th>PERSONAL_MONTHLY_INCOME</th>\n",
       "      <th>QUANT_CARS</th>\n",
       "      <th>QUANT_BANKING_ACCOUNTS</th>\n",
       "      <th>QUANT_DEPENDANTS</th>\n",
       "      <th>TARGET_LABEL</th>\n",
       "      <th>age_group</th>\n",
       "    </tr>\n",
       "  </thead>\n",
       "  <tbody>\n",
       "    <tr>\n",
       "      <th>0</th>\n",
       "      <td>Web</td>\n",
       "      <td>F</td>\n",
       "      <td>32</td>\n",
       "      <td>6</td>\n",
       "      <td>15</td>\n",
       "      <td>900.0</td>\n",
       "      <td>0</td>\n",
       "      <td>0</td>\n",
       "      <td>1</td>\n",
       "      <td>Delinquent</td>\n",
       "      <td>30-39</td>\n",
       "    </tr>\n",
       "    <tr>\n",
       "      <th>1</th>\n",
       "      <td>Paper</td>\n",
       "      <td>F</td>\n",
       "      <td>34</td>\n",
       "      <td>2</td>\n",
       "      <td>1</td>\n",
       "      <td>750.0</td>\n",
       "      <td>0</td>\n",
       "      <td>0</td>\n",
       "      <td>0</td>\n",
       "      <td>Delinquent</td>\n",
       "      <td>30-39</td>\n",
       "    </tr>\n",
       "    <tr>\n",
       "      <th>2</th>\n",
       "      <td>Web</td>\n",
       "      <td>F</td>\n",
       "      <td>27</td>\n",
       "      <td>2</td>\n",
       "      <td>10</td>\n",
       "      <td>500.0</td>\n",
       "      <td>0</td>\n",
       "      <td>0</td>\n",
       "      <td>0</td>\n",
       "      <td>Non-Delinquent</td>\n",
       "      <td>15-29</td>\n",
       "    </tr>\n",
       "    <tr>\n",
       "      <th>3</th>\n",
       "      <td>Web</td>\n",
       "      <td>F</td>\n",
       "      <td>61</td>\n",
       "      <td>2</td>\n",
       "      <td>10</td>\n",
       "      <td>500.0</td>\n",
       "      <td>0</td>\n",
       "      <td>0</td>\n",
       "      <td>0</td>\n",
       "      <td>Non-Delinquent</td>\n",
       "      <td>60-69</td>\n",
       "    </tr>\n",
       "    <tr>\n",
       "      <th>4</th>\n",
       "      <td>Web</td>\n",
       "      <td>M</td>\n",
       "      <td>48</td>\n",
       "      <td>2</td>\n",
       "      <td>12</td>\n",
       "      <td>1200.0</td>\n",
       "      <td>0</td>\n",
       "      <td>0</td>\n",
       "      <td>0</td>\n",
       "      <td>Delinquent</td>\n",
       "      <td>40-49</td>\n",
       "    </tr>\n",
       "  </tbody>\n",
       "</table>\n",
       "</div>"
      ],
      "text/plain": [
       "  APPLICATION_SUBMISSION_TYPE GENDER  AGE  MARITAL_STATUS  \\\n",
       "0                         Web      F   32               6   \n",
       "1                       Paper      F   34               2   \n",
       "2                         Web      F   27               2   \n",
       "3                         Web      F   61               2   \n",
       "4                         Web      M   48               2   \n",
       "\n",
       "   MONTHS_IN_RESIDENCE  PERSONAL_MONTHLY_INCOME  QUANT_CARS  \\\n",
       "0                   15                    900.0           0   \n",
       "1                    1                    750.0           0   \n",
       "2                   10                    500.0           0   \n",
       "3                   10                    500.0           0   \n",
       "4                   12                   1200.0           0   \n",
       "\n",
       "   QUANT_BANKING_ACCOUNTS  QUANT_DEPENDANTS    TARGET_LABEL age_group  \n",
       "0                       0                 1      Delinquent     30-39  \n",
       "1                       0                 0      Delinquent     30-39  \n",
       "2                       0                 0  Non-Delinquent     15-29  \n",
       "3                       0                 0  Non-Delinquent     60-69  \n",
       "4                       0                 0      Delinquent     40-49  "
      ]
     },
<<<<<<< HEAD
     "execution_count": 197,
=======
     "execution_count": 173,
>>>>>>> eaf74c204ed1eb8292e533ebb7217424d7130592
     "metadata": {},
     "output_type": "execute_result"
    }
   ],
   "source": [
    "bins = [0, 15, 30, 40, 50, 60, 70, 80, 100, 150]\n",
    "labels = ['0-14', '15-29', '30-39', '40-49', '50-59', '60-69', '70-79','80-100', '101-150']\n",
    "df_temp['age_group'] = pd.cut(df_temp['AGE'], bins=bins, labels=labels)\n",
    "\n",
    "df_temp.head()"
   ]
  },
  {
   "cell_type": "code",
<<<<<<< HEAD
   "execution_count": 198,
=======
   "execution_count": 174,
>>>>>>> eaf74c204ed1eb8292e533ebb7217424d7130592
   "id": "480a94bf",
   "metadata": {},
   "outputs": [
    {
     "name": "stdout",
     "output_type": "stream",
     "text": [
      "TARGET_LABEL  Delinquent  Non-Delinquent  total\n",
      "age_group                                      \n",
      "0-14                   2               1      3\n",
      "15-29               3732            7579  11311\n",
      "30-39               3514            8991  12505\n",
      "40-49               2795            8248  11043\n",
      "50-59               1574            6078   7652\n",
      "60-69                875            4196   5071\n",
      "70-79                396            1563   1959\n",
      "80-100               144             292    436\n",
      "101-150                2               1      3\n"
     ]
    }
   ],
   "source": [
    "# Calculate the percentage of delinquent and non-delinquent individuals in each age group\n",
    "df_grouped = df_temp.groupby(['age_group', 'TARGET_LABEL']).size().unstack()\n",
    "df_grouped['total'] = df_grouped.sum(axis=1)\n",
    "\n",
    "print(df_grouped)\n",
    "\n",
    "df_grouped['delinquent_percentage'] = df_grouped['Delinquent'].sum() / df_grouped['total'].sum()\n",
    "df_grouped['non-delinquent_percentage'] = df_grouped['Non-Delinquent'].sum() / df_grouped['total'].sum()\n",
    "\n",
    "#df_grouped"
   ]
  },
  {
   "cell_type": "code",
<<<<<<< HEAD
   "execution_count": 199,
=======
   "execution_count": 175,
>>>>>>> eaf74c204ed1eb8292e533ebb7217424d7130592
   "id": "46336cfe",
   "metadata": {},
   "outputs": [
    {
     "data": {
      "image/png": "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\n",
      "text/plain": [
       "<Figure size 576x432 with 1 Axes>"
      ]
     },
     "metadata": {
      "needs_background": "light"
     },
     "output_type": "display_data"
    }
   ],
   "source": [
    "#scatter plot\n",
    "\n",
    "fig, ax = plt.subplots(figsize=(8, 6))\n",
    "sns.scatterplot(x='AGE', y='TARGET_LABEL', data=df_impfeatures, hue='TARGET_LABEL', ax=ax)\n",
    "ax.set_xlabel('Age')\n",
    "ax.set_ylabel('Target Label')\n",
    "ax.set_title('Relationship between Age and Target Label')\n",
    "plt.show()"
   ]
  },
  {
   "cell_type": "markdown",
   "id": "64cf2f78",
   "metadata": {},
   "source": [
    "\n",
    "\n",
    "\n",
    "\n",
    "## Gender\n"
   ]
  },
  {
   "cell_type": "code",
<<<<<<< HEAD
   "execution_count": 200,
=======
   "execution_count": 176,
>>>>>>> eaf74c204ed1eb8292e533ebb7217424d7130592
   "id": "0e1c4e38",
   "metadata": {},
   "outputs": [
    {
     "data": {
      "text/plain": [
       "Index(['APPLICATION_SUBMISSION_TYPE', 'GENDER', 'AGE', 'MARITAL_STATUS',\n",
       "       'MONTHS_IN_RESIDENCE', 'PERSONAL_MONTHLY_INCOME', 'QUANT_CARS',\n",
       "       'QUANT_BANKING_ACCOUNTS', 'QUANT_DEPENDANTS', 'TARGET_LABEL',\n",
       "       'age_group'],\n",
       "      dtype='object')"
      ]
     },
<<<<<<< HEAD
     "execution_count": 200,
=======
     "execution_count": 176,
>>>>>>> eaf74c204ed1eb8292e533ebb7217424d7130592
     "metadata": {},
     "output_type": "execute_result"
    }
   ],
   "source": [
    "df_impfeatures.columns"
   ]
  },
  {
   "cell_type": "code",
<<<<<<< HEAD
   "execution_count": 201,
=======
   "execution_count": 177,
>>>>>>> eaf74c204ed1eb8292e533ebb7217424d7130592
   "id": "eb834d91",
   "metadata": {},
   "outputs": [
    {
     "data": {
      "text/plain": [
       "F    30805\n",
       "M    19130\n",
       "N       48\n",
       "Name: GENDER, dtype: int64"
      ]
     },
<<<<<<< HEAD
     "execution_count": 201,
=======
     "execution_count": 177,
>>>>>>> eaf74c204ed1eb8292e533ebb7217424d7130592
     "metadata": {},
     "output_type": "execute_result"
    }
   ],
   "source": [
    "df_impfeatures['GENDER'].value_counts()\n",
    "#no. of neutrals is really small in our dataset, so we can also ignore them but who cares"
   ]
  },
  {
   "cell_type": "code",
<<<<<<< HEAD
   "execution_count": 202,
=======
   "execution_count": 178,
>>>>>>> eaf74c204ed1eb8292e533ebb7217424d7130592
   "id": "20b8119a",
   "metadata": {},
   "outputs": [
    {
     "name": "stdout",
     "output_type": "stream",
     "text": [
      "TARGET_LABEL  Delinquent  Non-Delinquent\n",
      "GENDER                                  \n",
      "F                   7790           23015\n",
      "M                   5228           13902\n",
      "N                     16              32\n"
     ]
    }
   ],
   "source": [
    "#for age we do same as we did for \"application_submission_type\"\n",
    "\n",
    "gender_count = df_impfeatures.groupby(['GENDER','TARGET_LABEL']).size().reset_index(name='Count')\n",
    "gender_count = gender_count.pivot(index='GENDER', columns='TARGET_LABEL', values='Count')\n",
    "print(gender_count)"
   ]
  },
  {
   "cell_type": "code",
<<<<<<< HEAD
   "execution_count": 203,
=======
   "execution_count": 179,
>>>>>>> eaf74c204ed1eb8292e533ebb7217424d7130592
   "id": "f873a149",
   "metadata": {},
   "outputs": [],
   "source": [
    "##we see that male are more likely to be delinquent"
   ]
  },
  {
   "cell_type": "code",
<<<<<<< HEAD
   "execution_count": 204,
=======
   "execution_count": 180,
>>>>>>> eaf74c204ed1eb8292e533ebb7217424d7130592
   "id": "80965af1",
   "metadata": {},
   "outputs": [
    {
     "name": "stdout",
     "output_type": "stream",
     "text": [
      "TARGET_LABEL  Delinquent  Non-Delinquent  Delinquent %  Non-Delinquent %\n",
      "GENDER                                                                  \n",
      "F                   7790           23015     25.288103         74.711897\n",
      "M                   5228           13902     27.328803         72.671197\n",
      "N                     16              32     33.333333         66.666667\n"
     ]
    }
   ],
   "source": [
    "gender_count['Delinquent %'] = (gender_count['Delinquent'] / (gender_count['Delinquent'] + gender_count['Non-Delinquent'])) * 100\n",
    "gender_count['Non-Delinquent %'] = (gender_count['Non-Delinquent'] / (gender_count['Delinquent'] + gender_count['Non-Delinquent'])) * 100\n",
    "print(gender_count)"
   ]
  },
  {
   "cell_type": "code",
<<<<<<< HEAD
   "execution_count": 205,
=======
   "execution_count": 181,
>>>>>>> eaf74c204ed1eb8292e533ebb7217424d7130592
   "id": "6b5a5be3",
   "metadata": {
    "scrolled": true
   },
   "outputs": [
    {
     "name": "stdout",
     "output_type": "stream",
     "text": [
      "  Gender Delinquent % Non-Delinquent %\n",
      "0      F    25.288103        74.711897\n",
      "1      M    27.328803        72.671197\n",
      "2      N    33.333333        66.666667\n"
     ]
    },
    {
     "name": "stderr",
     "output_type": "stream",
     "text": [
<<<<<<< HEAD
      "/var/folders/xn/gbft823x5mx4sjzwb1jd4c440000gn/T/ipykernel_48269/3466771854.py:7: FutureWarning: The frame.append method is deprecated and will be removed from pandas in a future version. Use pandas.concat instead.\n",
      "  gender_percentages = gender_percentages.append({'Gender': gender,\n",
      "/var/folders/xn/gbft823x5mx4sjzwb1jd4c440000gn/T/ipykernel_48269/3466771854.py:7: FutureWarning: The frame.append method is deprecated and will be removed from pandas in a future version. Use pandas.concat instead.\n",
      "  gender_percentages = gender_percentages.append({'Gender': gender,\n",
      "/var/folders/xn/gbft823x5mx4sjzwb1jd4c440000gn/T/ipykernel_48269/3466771854.py:7: FutureWarning: The frame.append method is deprecated and will be removed from pandas in a future version. Use pandas.concat instead.\n",
=======
      "/var/folders/xn/gbft823x5mx4sjzwb1jd4c440000gn/T/ipykernel_24762/3466771854.py:7: FutureWarning: The frame.append method is deprecated and will be removed from pandas in a future version. Use pandas.concat instead.\n",
      "  gender_percentages = gender_percentages.append({'Gender': gender,\n",
      "/var/folders/xn/gbft823x5mx4sjzwb1jd4c440000gn/T/ipykernel_24762/3466771854.py:7: FutureWarning: The frame.append method is deprecated and will be removed from pandas in a future version. Use pandas.concat instead.\n",
      "  gender_percentages = gender_percentages.append({'Gender': gender,\n",
      "/var/folders/xn/gbft823x5mx4sjzwb1jd4c440000gn/T/ipykernel_24762/3466771854.py:7: FutureWarning: The frame.append method is deprecated and will be removed from pandas in a future version. Use pandas.concat instead.\n",
>>>>>>> eaf74c204ed1eb8292e533ebb7217424d7130592
      "  gender_percentages = gender_percentages.append({'Gender': gender,\n"
     ]
    }
   ],
   "source": [
    "gender_percentages = pd.DataFrame(columns=['Gender', 'Delinquent %', 'Non-Delinquent %'])\n",
    "\n",
    "for gender in gender_count.index:\n",
    "    delinquent_percent = gender_count.loc[gender, 'Delinquent %']\n",
    "    non_delinquent_percent = gender_count.loc[gender, 'Non-Delinquent %']\n",
    "    \n",
    "    gender_percentages = gender_percentages.append({'Gender': gender,\n",
    "                                                    'Delinquent %': delinquent_percent,\n",
    "                                                    'Non-Delinquent %': non_delinquent_percent},\n",
    "                                                   ignore_index=True)\n",
    "    \n",
    "print(gender_percentages)\n"
   ]
  },
  {
   "cell_type": "code",
<<<<<<< HEAD
   "execution_count": 206,
=======
   "execution_count": 182,
>>>>>>> eaf74c204ed1eb8292e533ebb7217424d7130592
   "id": "6d8965b2",
   "metadata": {},
   "outputs": [],
   "source": [
    "#we see that statistically \"Neutral\" has the highest likelihood(33.33%) of delinquency\n",
    "#since we have the small sample space for neutral we can ignore that category and conclude that male are more likely\n",
    "#to be delinquent(feminist finally got something to be proud of huh!)"
   ]
  },
  {
   "cell_type": "code",
<<<<<<< HEAD
   "execution_count": 207,
=======
   "execution_count": 183,
>>>>>>> eaf74c204ed1eb8292e533ebb7217424d7130592
   "id": "d48b8646",
   "metadata": {},
   "outputs": [
    {
     "data": {
      "image/png": "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\n",
      "text/plain": [
       "<Figure size 864x432 with 1 Axes>"
      ]
     },
     "metadata": {
      "needs_background": "light"
     },
     "output_type": "display_data"
    }
   ],
   "source": [
    "fig, ax = plt.subplots(figsize = (12,6))\n",
    "sns.countplot(x=df_impfeatures['GENDER'], hue='TARGET_LABEL', data=df_impfeatures, ax=ax)\n",
    "ax.set_title(\"Distribution By GENDER\")\n",
    "plt.show()"
   ]
  },
  {
   "cell_type": "markdown",
   "id": "8b0375dc",
   "metadata": {},
   "source": [
    "## Marital Status"
   ]
  },
  {
   "cell_type": "code",
<<<<<<< HEAD
   "execution_count": 208,
=======
   "execution_count": 184,
>>>>>>> eaf74c204ed1eb8292e533ebb7217424d7130592
   "id": "9a730565",
   "metadata": {},
   "outputs": [
    {
     "data": {
      "text/plain": [
       "2    25957\n",
       "1    15280\n",
       "4     4205\n",
       "6     1877\n",
       "5     1296\n",
       "3      632\n",
       "7      534\n",
       "0      202\n",
       "Name: MARITAL_STATUS, dtype: int64"
      ]
     },
<<<<<<< HEAD
     "execution_count": 208,
=======
     "execution_count": 184,
>>>>>>> eaf74c204ed1eb8292e533ebb7217424d7130592
     "metadata": {},
     "output_type": "execute_result"
    }
   ],
   "source": [
    "df_impfeatures['MARITAL_STATUS'].value_counts()"
   ]
  },
  {
   "cell_type": "code",
<<<<<<< HEAD
   "execution_count": 209,
=======
   "execution_count": 185,
>>>>>>> eaf74c204ed1eb8292e533ebb7217424d7130592
   "id": "709c962f",
   "metadata": {},
   "outputs": [],
   "source": [
    "# with the marital status also we can do the same as we did with Gender"
   ]
  },
  {
   "cell_type": "code",
<<<<<<< HEAD
   "execution_count": 210,
=======
   "execution_count": 186,
>>>>>>> eaf74c204ed1eb8292e533ebb7217424d7130592
   "id": "72434b2d",
   "metadata": {},
   "outputs": [
    {
     "name": "stdout",
     "output_type": "stream",
     "text": [
      "TARGET_LABEL    Delinquent  Non-Delinquent\n",
      "MARITAL_STATUS                            \n",
      "0                       55             147\n",
      "1                     4653           10627\n",
      "2                     6272           19685\n",
      "3                      139             493\n",
      "4                      897            3308\n",
      "5                      329             967\n",
      "6                      547            1330\n",
      "7                      142             392\n"
     ]
    }
   ],
   "source": [
    "status_count = df_impfeatures.groupby(['MARITAL_STATUS','TARGET_LABEL']).size().reset_index(name='Count')\n",
    "status_count = status_count.pivot(index='MARITAL_STATUS', columns='TARGET_LABEL', values='Count')\n",
    "print(status_count)"
   ]
  },
  {
   "cell_type": "code",
<<<<<<< HEAD
   "execution_count": 211,
=======
   "execution_count": 187,
>>>>>>> eaf74c204ed1eb8292e533ebb7217424d7130592
   "id": "4ba94b9f",
   "metadata": {},
   "outputs": [
    {
     "name": "stdout",
     "output_type": "stream",
     "text": [
      "TARGET_LABEL    Delinquent  Non-Delinquent  Delinquent %  Non-Delinquent %\n",
      "MARITAL_STATUS                                                            \n",
      "0                       55             147     27.227723         72.772277\n",
      "1                     4653           10627     30.451571         69.548429\n",
      "2                     6272           19685     24.163039         75.836961\n",
      "3                      139             493     21.993671         78.006329\n",
      "4                      897            3308     21.331748         78.668252\n",
      "5                      329             967     25.385802         74.614198\n",
      "6                      547            1330     29.142248         70.857752\n",
      "7                      142             392     26.591760         73.408240\n"
     ]
    }
   ],
   "source": [
    "status_count['Delinquent %'] = (status_count['Delinquent'] / (status_count['Delinquent'] + status_count['Non-Delinquent'])) * 100\n",
    "status_count['Non-Delinquent %'] = (status_count['Non-Delinquent'] / (status_count['Delinquent'] + status_count['Non-Delinquent'])) * 100\n",
    "print(status_count)"
   ]
  },
  {
   "cell_type": "code",
<<<<<<< HEAD
   "execution_count": 212,
=======
   "execution_count": 188,
>>>>>>> eaf74c204ed1eb8292e533ebb7217424d7130592
   "id": "d912073b",
   "metadata": {},
   "outputs": [
    {
     "name": "stdout",
     "output_type": "stream",
     "text": [
      "  Marital Status Delinquent % Non-Delinquent %\n",
      "0            0.0    27.227723        72.772277\n",
      "1            1.0    30.451571        69.548429\n",
      "2            2.0    24.163039        75.836961\n",
      "3            3.0    21.993671        78.006329\n",
      "4            4.0    21.331748        78.668252\n",
      "5            5.0    25.385802        74.614198\n",
      "6            6.0    29.142248        70.857752\n",
      "7            7.0     26.59176         73.40824\n"
     ]
    },
    {
     "name": "stderr",
     "output_type": "stream",
     "text": [
<<<<<<< HEAD
      "/var/folders/xn/gbft823x5mx4sjzwb1jd4c440000gn/T/ipykernel_48269/4086833623.py:7: FutureWarning: The frame.append method is deprecated and will be removed from pandas in a future version. Use pandas.concat instead.\n",
      "  status_percentages = status_percentages.append({'Marital Status': status,\n",
      "/var/folders/xn/gbft823x5mx4sjzwb1jd4c440000gn/T/ipykernel_48269/4086833623.py:7: FutureWarning: The frame.append method is deprecated and will be removed from pandas in a future version. Use pandas.concat instead.\n",
      "  status_percentages = status_percentages.append({'Marital Status': status,\n",
      "/var/folders/xn/gbft823x5mx4sjzwb1jd4c440000gn/T/ipykernel_48269/4086833623.py:7: FutureWarning: The frame.append method is deprecated and will be removed from pandas in a future version. Use pandas.concat instead.\n",
      "  status_percentages = status_percentages.append({'Marital Status': status,\n",
      "/var/folders/xn/gbft823x5mx4sjzwb1jd4c440000gn/T/ipykernel_48269/4086833623.py:7: FutureWarning: The frame.append method is deprecated and will be removed from pandas in a future version. Use pandas.concat instead.\n",
      "  status_percentages = status_percentages.append({'Marital Status': status,\n",
      "/var/folders/xn/gbft823x5mx4sjzwb1jd4c440000gn/T/ipykernel_48269/4086833623.py:7: FutureWarning: The frame.append method is deprecated and will be removed from pandas in a future version. Use pandas.concat instead.\n",
      "  status_percentages = status_percentages.append({'Marital Status': status,\n",
      "/var/folders/xn/gbft823x5mx4sjzwb1jd4c440000gn/T/ipykernel_48269/4086833623.py:7: FutureWarning: The frame.append method is deprecated and will be removed from pandas in a future version. Use pandas.concat instead.\n",
      "  status_percentages = status_percentages.append({'Marital Status': status,\n",
      "/var/folders/xn/gbft823x5mx4sjzwb1jd4c440000gn/T/ipykernel_48269/4086833623.py:7: FutureWarning: The frame.append method is deprecated and will be removed from pandas in a future version. Use pandas.concat instead.\n",
      "  status_percentages = status_percentages.append({'Marital Status': status,\n",
      "/var/folders/xn/gbft823x5mx4sjzwb1jd4c440000gn/T/ipykernel_48269/4086833623.py:7: FutureWarning: The frame.append method is deprecated and will be removed from pandas in a future version. Use pandas.concat instead.\n",
=======
      "/var/folders/xn/gbft823x5mx4sjzwb1jd4c440000gn/T/ipykernel_24762/4086833623.py:7: FutureWarning: The frame.append method is deprecated and will be removed from pandas in a future version. Use pandas.concat instead.\n",
      "  status_percentages = status_percentages.append({'Marital Status': status,\n",
      "/var/folders/xn/gbft823x5mx4sjzwb1jd4c440000gn/T/ipykernel_24762/4086833623.py:7: FutureWarning: The frame.append method is deprecated and will be removed from pandas in a future version. Use pandas.concat instead.\n",
      "  status_percentages = status_percentages.append({'Marital Status': status,\n",
      "/var/folders/xn/gbft823x5mx4sjzwb1jd4c440000gn/T/ipykernel_24762/4086833623.py:7: FutureWarning: The frame.append method is deprecated and will be removed from pandas in a future version. Use pandas.concat instead.\n",
      "  status_percentages = status_percentages.append({'Marital Status': status,\n",
      "/var/folders/xn/gbft823x5mx4sjzwb1jd4c440000gn/T/ipykernel_24762/4086833623.py:7: FutureWarning: The frame.append method is deprecated and will be removed from pandas in a future version. Use pandas.concat instead.\n",
      "  status_percentages = status_percentages.append({'Marital Status': status,\n",
      "/var/folders/xn/gbft823x5mx4sjzwb1jd4c440000gn/T/ipykernel_24762/4086833623.py:7: FutureWarning: The frame.append method is deprecated and will be removed from pandas in a future version. Use pandas.concat instead.\n",
      "  status_percentages = status_percentages.append({'Marital Status': status,\n",
      "/var/folders/xn/gbft823x5mx4sjzwb1jd4c440000gn/T/ipykernel_24762/4086833623.py:7: FutureWarning: The frame.append method is deprecated and will be removed from pandas in a future version. Use pandas.concat instead.\n",
      "  status_percentages = status_percentages.append({'Marital Status': status,\n",
      "/var/folders/xn/gbft823x5mx4sjzwb1jd4c440000gn/T/ipykernel_24762/4086833623.py:7: FutureWarning: The frame.append method is deprecated and will be removed from pandas in a future version. Use pandas.concat instead.\n",
      "  status_percentages = status_percentages.append({'Marital Status': status,\n",
      "/var/folders/xn/gbft823x5mx4sjzwb1jd4c440000gn/T/ipykernel_24762/4086833623.py:7: FutureWarning: The frame.append method is deprecated and will be removed from pandas in a future version. Use pandas.concat instead.\n",
>>>>>>> eaf74c204ed1eb8292e533ebb7217424d7130592
      "  status_percentages = status_percentages.append({'Marital Status': status,\n"
     ]
    }
   ],
   "source": [
    "status_percentages = pd.DataFrame(columns=['Marital Status', 'Delinquent %', 'Non-Delinquent %'])\n",
    "\n",
    "for status in status_count.index:\n",
    "    delinquent_percent = status_count.loc[status, 'Delinquent %']\n",
    "    non_delinquent_percent = status_count.loc[status, 'Non-Delinquent %']\n",
    "    \n",
    "    status_percentages = status_percentages.append({'Marital Status': status,\n",
    "                                                    'Delinquent %': delinquent_percent,\n",
    "                                                    'Non-Delinquent %': non_delinquent_percent},\n",
    "                                                   ignore_index=True)\n",
    "    \n",
    "print(status_percentages)\n"
   ]
  },
  {
   "cell_type": "code",
<<<<<<< HEAD
   "execution_count": 213,
=======
   "execution_count": 189,
>>>>>>> eaf74c204ed1eb8292e533ebb7217424d7130592
   "id": "6ce4e5ca",
   "metadata": {},
   "outputs": [
    {
     "data": {
      "image/png": "iVBORw0KGgoAAAANSUhEUgAAAuAAAAGECAYAAAB3U5XYAAAAOXRFWHRTb2Z0d2FyZQBNYXRwbG90bGliIHZlcnNpb24zLjUuMSwgaHR0cHM6Ly9tYXRwbG90bGliLm9yZy/YYfK9AAAACXBIWXMAAAsTAAALEwEAmpwYAAA0AElEQVR4nO3de5hWdb3//+dbEDygZoqFoIJFpihOgKRphlppZYluE9A8dLhIf5qdM7c7N7m3fXe7UqPMnal5yAC3hzxsLU0htSyFJBEPiYo6gohahCjK4f37414z3QzDMDPMrHtmeD6u675Y92cdPu+1hktffOaz1orMRJIkSVI5Nql1AZIkSdLGxAAuSZIklcgALkmSJJXIAC5JkiSVyAAuSZIklcgALkmSJJXIAC5poxER/xMR3+qgY+0cEa9GRK/i+4yI+FxHHLs43m0RcWJHHa+72dCfVURkRLyzI2uSpI5iAJfUI0TE/Ih4PSKWRsTfI+IPEXFyRDT+dy4zT87M/2jlsT7Y0jaZ+Wxm9svMVR1Q+6SI+EWT438kM6/Y0GM309flEfFm8Y+HpRExKyI+0M5jnVQE3fOatI8t2i9vb53VP6uIGBMR9e09VlMRMSwibo+IvxV/V2ZFxEfb25dhX1JbGcAl9SQfz8ytgF2A/wLOAC7t6E4iondHH7Nk/52Z/YBtgIuA6xtG8tvhSWBck2tyAvDX9ha3AbW01s3AHcDbgB2A04F/dHKfktTIAC6px8nMJZl5EzAOODEi9oTG0d//LJa3j4hbihHQVyLinojYJCKuAnYGbi5Gib8REYOLUc7PRsSzwF1VbdXB8x0RcX9ELImIGyPirUVfa42qNoyyR8RhwL9SCbGvRsRfivWNU1qKuv4tIp6JiBcj4sqI2KZY11DHiRHxbES8FBFntfI6rQZ+CbwVeFtE9C2uxV5Vde5Q/Gah/zoO8wIwBzi02P6twPuAm5qc7/9GxAvFtbk7IoZVrbs8Ii6KiFsjYhlwUMPPKiK2BG4Ddiyuz6sRsWNEjI6I+4qf38KI+HFE9FnfOUfE9sAQ4GeZ+Wbx+X1m3tueviLi7uLQfym2H1f8ZuDeJv02jpJHxEcj4pHiNxDPR8TX1le3pJ7FAC6px8rM+4F64P3NrP5qsa4/lZHQf63skscDz1IZTe+Xmf9dtc8HgN0pwmYzTgA+A+wIrAQmt6LGXwPfAaYV/e3dzGYnFZ+DgF2BfsCPm2xzALAbcAhwdkTsvr6+i5HmE4CngUWZ+QYwFfhU1WYTgN9m5uIWDnVlcRyA8cCNwBtNtrkNGEplxPnPwNVN1h8LnAtsBTSG18xcBnwEWFBcn36ZuQBYBXwZ2B7Yrzjv/2995wy8DMwDflFMlXnbhvSVmQcWu+9dbD+tFTVcCny++G3NnsBdrdhHUg9iAJfU0y2gMsLb1ApgALBLZq7IzHsyM9dzrEmZuSwzX1/H+qsy8+EiyH0LOKaDplMcB5yXmU9l5qvAmcD4JqPv387M1zPzL8BfgOaCfIOvRcTfgWXABcC3quayXwEcG/+cO388cNV66rsBGFOMyp9AJZCvITMvy8ylRcifBOzdMIpfuLEYiV6dmcvX0x+ZOSsz/5iZKzNzPvBTKv9AWt9+SeUfMvOBHwALixH5oR3dVwtWAHtExNaZ+bfM/PMGHEtSN2QAl9TTDQReaab9e1RGQm+PiKci4putONZzbVj/DLAplVHTDbVjcbzqY/emMnLf4IWq5deojJKvy/cz8y3A5sAo4HsR8RGAzPwTlWD+gYh4N/BOmkwnaar4B8n/Af8GbJ+Zv69eHxG9IuK/IuLJiPgHlfALa16b9V3bNUTEu4opRC8Ux/wOrbzWmVmfmadl5juo3C+wjGb+0dARfa3DvwAfBZ6JiN9FxH4bcCxJ3ZABXFKPFRH7UAng9zZdV4zGfjUzdwU+DnwlIg5pWL2OQ65vhHynquWdqYx0vkQl4G1RVVcvKlNfWnvcBVSCYvWxVwKL1rNfi7LiYeD3wMeqVl1BZRrK8cC1rRmRphJgv0rzo+XHAkcAH6Ry4+fgoj2qy2mp1GbaLgIeA4Zm5tZUphBFM9u1KDOfAy6kMhWko/pq+vN+e5M+H8jMI6hMx/kVcE1b65bUvRnAJfU4EbF1RBxOZT7zLzJzTjPbHB4R74yIoPIEjFXFByrBdtd2dP2piNgjIrYAzqESXldReSLIZhHxsYjYlMpIcd+q/RYBg6umfTQ1BfhyRAyJiH78c874ynbUuIZilPsAYG5V81XAkVRC+DpHhpv4HfAh4EfNrNuKypzwl6kE0++0scxFwHZNpqxsReXn9mpxDqe05kARsW1EfLv42W9S3JT5GeCPG9BX078vfwGGRURdRGxGZcpNQ/99IuK4iNgmM1fwz797kjYiBnBJPcnNEbGUynSGs4DzgE+vY9uhwG+BV4H7gJ9k5oxi3f8D/q146kVbnlBxFXA5lekgm1F5vB2ZuYTKTXuXAM9TGSGtfirK/xZ/vhwRzc0Hvqw49t1UbphcDnyhDXU19Y3iiR3LgNuBn1OZ10xRbz2VGyUTuKc1ByxG0+/MzOam+1xJZdrM88Aj/DPstkpmPkblHyFPFT+THYGvURlZXwr8DGjNzY8Ab1IZgf8tlfD7MJV/HJy0AX1NAq4otj8mM/9K5R9gvwWeYO3fwBwPzC+ms5zMmje9StoIxPrvOZIkbWwi4jIqTwP5t1rXIkk9TXd/mYQkqYNFxGDgKOA9NS5Fknokp6BIkhpFxH9QmZbxvcx8utb1SFJP5BQUSZIkqUSOgEuSJEklMoBLkiRJJdrobsLcfvvtc/DgwbUuQ5IkST3crFmzXsrM/k3bN7oAPnjwYGbOnFnrMiRJktTDRcQzzbU7BUWSJEkqkQFckiRJKpEBXJIkSSrRRjcHXJIkqatYsWIF9fX1LF++vNalaANsttlmDBo0iE033bRV2xvAJUmSaqS+vp6tttqKwYMHExG1LkftkJm8/PLL1NfXM2TIkFbt02lTUCJip4iYHhGPRsTciPhi0f7WiLgjIp4o/ty2ap8zI2JeRDweEYdWtY+MiDnFuslR/A2NiL4RMa1o/1NEDO6s85EkSepoy5cvZ7vttjN8d2MRwXbbbdem32J05hzwlcBXM3N3YF/g1IjYA/gmcGdmDgXuLL5TrBsPDAMOA34SEb2KY10ETASGFp/DivbPAn/LzHcC5wPf7cTzkSRJ6nCG7+6vrT/DTgvgmbkwM/9cLC8FHgUGAkcAVxSbXQGMLZaPAKZm5huZ+TQwDxgdEQOArTPzvsxM4Mom+zQc61rgkPBvsSRJkrqwUp6CUkwNeQ/wJ+BtmbkQKiEd2KHYbCDwXNVu9UXbwGK5afsa+2TmSmAJsF0z/U+MiJkRMXPx4sUddFaSJEldy8svv0xdXR11dXW8/e1vZ+DAgY3fFy1axKabbspPf/rTNfYZPHgwe+21F8OHD+cDH/gAzzzzz3fHLFq0iGOPPZZdd92VkSNHst9++3HDDTcAMGPGDLbZZpvG49fV1TFt2rR19v/mm282W3O/fv3WeT5f/OIXGThwIKtXr25su/zyy+nfvz91dXUMGzaMo48+mtdeew2ASZMmrdFnXV0df//735kxYwaHH354u69rR+v0AB4R/YDrgC9l5j9a2rSZtmyhvaV91mzIvDgzR2XmqP7913obqCRJUo+w3XbbMXv2bGbPns3JJ5/Ml7/85cbv1113Hfvuuy9TpkxZa7/p06fz0EMPMWbMGP7zP/8TqNxcOHbsWA488ECeeuopZs2axdSpU6mv/+e46Pvf//7G48+ePZtx48ats/8+ffq06VxWr17NDTfcwE477cTdd9+9xrqGfubOnUufPn2YNm1a47rqPmfPns1b3vKWNvVbhk4N4BGxKZXwfXVmXl80LyqmlVD8+WLRXg/sVLX7IGBB0T6omfY19omI3sA2wCsdfyaSJEnd25QpU/jBD35AfX09zz//fLPb7Lfffo3r7rrrLvr06cPJJ5/cuH6XXXbhC1/4Qin1Tp8+nT333JNTTjml2X80AKxcuZJly5ax7bbbNru+q+rMp6AEcCnwaGaeV7XqJuDEYvlE4Maq9vHFk02GULnZ8v5imsrSiNi3OOYJTfZpONbRwF3FPHFJkiQVnnvuOV544QVGjx7NMcccs8aIcbVf//rXjB07FoC5c+cyYsSIFo97zz33rDHd48knn+ywmqdMmcKECRM48sgjueWWW1ixYkXjuoapLgMHDuSVV17h4x//eOO6888/v7Gegw46qMPq6UidOQK+P3A8cHBEzC4+HwX+C/hQRDwBfKj4TmbOBa4BHgF+DZyamauKY50CXELlxswngduK9kuB7SJiHvAViieqSJIk6Z+mTp3KMcccA8D48ePXGlE+6KCD2GGHHfjtb3/Lscce2+wxTj31VPbee2/22WefxramU1De8Y53dEi9b775Jrfeeitjx45l66235r3vfS+333574/qGKSgvvPACe+21F9/73vca11VPQZk+fXqH1NPROu1FPJl5L83P0QY4ZB37nAuc20z7TGDPZtqXA5/cgDIltdGz5+xV6xIA2PnsObUuQZK6jSlTprBo0SKuvvpqABYsWMATTzzB0KFDgcp0jy233JKTTjqJs88+m/POO49hw4Zx3XXXNR7jwgsv5KWXXmLUqFGdXu+vf/1rlixZwl57Vf6f89prr7HFFlvwsY99bI3tIoKPf/zj/OhHP+Kb3+w+47ClPAVFkiRJtfH444+zbNkynn/+eebPn8/8+fM588wzmTp16hrbbb755lxwwQVceeWVvPLKKxx88MEsX76ciy66qHGbhqeNdLYpU6ZwySWXNNb79NNPc/vttzfb/7333tthI+9lMYBLkiT1YFOmTOHII49co+1f/uVfmr2xccCAAUyYMIELL7yQiOBXv/oVv/vd7xgyZAijR4/mxBNP5Lvf/ed7D5vOAb/22mvbXN9rr73GoEGDGj/f+c53+M1vfrPGaPeWW27JAQccwM033wz8cw748OHDefDBB/nWt77VuG31HPC6ujrmz58PwJ133rlGP/fdd1+ba+0osbHdszhq1KicOXNmrcuQui2noEhSx3n00UfZfffda12GOkBzP8uImJWZa83ZcQRckiRJKlGn3YQpSZIkQeUNnYccsvYzOO688062226tl5j3eAZwSZIkdaqGN3SqwikokiRJUokM4JIkSVKJDOCSJElSiQzgkiRJG7FevXpRV1fHsGHD2HvvvTnvvPNYvXp1i/vMnz+fPfesvKR85syZnH766WWUul4XXHBBaS8L2hDehClJktRFjPz6lR16vFnfO2G922y++eaNN0i++OKLHHvssSxZsoRvf/vbrepj1KhRpbyevjUuuOACPvWpT7HFFlvUupQWOQIuSZIkAHbYYQcuvvhifvzjH5OZrFq1iq9//evss88+DB8+nJ/+9Kdr7TNjxgwOP/xwACZNmsRnPvMZxowZw6677srkyZMbtzv33HPZbbfd+OAHP8iECRP4/ve/D8CYMWNoeEniSy+9xODBgwHW2feMGTMYM2YMRx99NO9+97s57rjjyEwmT57MggULOOiggzjooIM68zJtMEfAJUmS1GjXXXdl9erVvPjii9x4441ss802PPDAA7zxxhvsv//+fPjDHyYi1rn/Y489xvTp01m6dCm77bYbp5xyCg899BBTp07lwQcfZOXKlYwYMYKRI0e2WMell17abN8ADz74IHPnzmXHHXdk//335/e//z2nn3465513HtOnT2f77bfv0GvS0QzgkiRJWkNmAnD77bfz0EMPce211wKwZMkSnnjiCd71rnetc9+Pfexj9O3bl759+7LDDjuwaNEi7rnnHo488sjGqSGf+MQn1lvDuvru06cPo0ePZtCgQQDU1dUxf/58DjjggA065zIZwCVJktToqaeeolevXuywww5kJj/60Y849NBD19hm/vz569y/b9++jcu9evVi5cqVAOscNe/du3fjTZ/Lly9vbF9X3zNmzFhnH92Fc8AlSZIEwOLFizn55JM57bTTiAgOPfRQLrroIlasWAHAX//6V5YtW9bm4x544IHccMMNvP766yxdupSbb765cd3gwYOZNWsWQONoN9CuvrfaaiuWLl3a5vrK5gi4JEnSRuz111+nrq6OFStW0Lt3b44//ni+8pWvAPC5z32O+fPnM2LECDKT/v3786tf/arNfYwYMYJx48ZRV1fHLrvswvvf//7GdV/72tc45phjuOqqqzj44IMb29vT98SJE/nIRz7CgAEDmD59epvrLEs0zPHZWIwaNSob7rSV1HbPnrNXrUsAYOez59S6BEnaYI8++ii77757rcso3aRJk+jXrx9f+9rXal1Kh2nuZxkRszJzrWc0OgVFkiRJKpFTUCRJklSqSZMm1bqEmnIEXJIkSSqRAVySJEkqkQFckiRJKpEBXJIkSSqRAVySJGkjFhF89atfbfz+/e9/v8Nukpw0aRIDBw6krq6OoUOHctRRR/HII4+sd7+TTjqp8aU8n/vc51q1T2ebPXs2t956a4ccy6egSJIkdREd/a6F1rwzoW/fvlx//fWceeaZbL/99h3aP8CXv/zlxud9T5s2jYMPPpg5c+bQv3//Vu1/ySWXdHhN7TF79mxmzpzJRz/60Q0+liPgkiRJG7HevXszceJEzj///LXWPfPMMxxyyCEMHz6cQw45hGeffRaojFCffvrpvO9972PXXXdd4xXyLRk3bhwf/vCH+eUvfwnArFmz+MAHPsDIkSM59NBDWbhw4Vr7jBkzhoaXKPbr14+zzjqLvffem3333ZdFixYB8PTTT7Pffvuxzz778K1vfYt+/foBMGPGDA4//PDGY5122mlcfvnlLfY9ZswYzjjjDEaPHs273vUu7rnnHt58803OPvtspk2bRl1dHdOmTWvV+a6LAVySJGkjd+qpp3L11VezZMmSNdpPO+00TjjhBB566CGOO+44Tj/99MZ1Cxcu5N577+WWW27hm9/8Zqv7GjFiBI899hgrVqzgC1/4Atdeey2zZs3iM5/5DGeddVaL+y5btox9992Xv/zlLxx44IH87Gc/A+CLX/wip5xyCg888ABvf/vb11vD+vpeuXIl999/PxdccAHf/va36dOnD+eccw7jxo1j9uzZjBs3rtXn2xynoEiSJG3ktt56a0444QQmT57M5ptv3th+3333cf311wNw/PHH841vfKNx3dixY9lkk03YY489GkeiWyMzAXj88cd5+OGH+dCHPgTAqlWrGDBgQIv79unTp3FEe+TIkdxxxx0A/P73v+e6665rrPOMM85o8Tjr6/uoo45q7GP+/PmtPrfWMoBLkiSJL33pS4wYMYJPf/rT69wmIhqX+/bt27jcEKrPOuss/u///g+ozJluzoMPPsioUaPITIYNG8Z9993X6ho33XTTxhp69erFypUrm62tQe/evVm9enXj9+XLlzfW21LfDefWtI+O0mlTUCLisoh4MSIermqbFhGzi8/8iJhdtA+OiNer1v1P1T4jI2JORMyLiMlRXN2I6Fscb15E/CkiBnfWuUiSJPV0b33rWznmmGO49NJLG9ve9773MXXqVACuvvpqDjjggBaPce655zJ79ux1hu/rrruO22+/nQkTJrDbbruxePHixhC8YsUK5s6d267a999//zXqbLDLLrvwyCOP8MYbb7BkyRLuvPNOgHb1vdVWW7F06dJ21ddUZ84Bvxw4rLohM8dlZl1m1gHXAddXrX6yYV1mnlzVfhEwERhafBqO+Vngb5n5TuB84LudchaSJEkbia9+9au89NJLjd8nT57Mz3/+c4YPH85VV13FD3/4wzYf8/zzz298DOEvfvEL7rrrLvr370+fPn249tprOeOMM9h7772pq6vjD3/4Q7vq/uEPf8iFF17IPvvss8Y89p122oljjjmG4cOHc9xxx/Ge97wHoF19H3TQQTzyyCMdchNmNPzKoDMUo9K3ZOaeTdoDeBY4ODOfaGG7AcD0zHx38X0CMCYzPx8RvwEmZeZ9EdEbeAHon+s5oVGjRmXDnbSS2q6jH5HVXq15tJYkdXWPPvoou+++e63L6HH69evHq6++Wmqfzf0sI2JWZo5qum2tnoLyfmBRZj5R1TYkIh6MiN9FxPuLtoFAfdU29UVbw7rnADJzJbAE2K5zy5YkSZI2TK1uwpwATKn6vhDYOTNfjoiRwK8iYhiw9mx6aBjhbmndGiJiIpVpLOy8887tLlqSJEldX9mj321V+gh4MV3kKKBx8kxmvpGZLxfLs4AngXdRGfEeVLX7IGBBsVwP7FR1zG2AV5rrMzMvzsxRmTmqtW9dkiRJkjpDLaagfBB4LDMbp5ZERP+I6FUs70rlZsunMnMhsDQi9i3mjZ8A3FjsdhNwYrF8NHDX+uZ/S5IkdTXGl+6vrT/DznwM4RTgPmC3iKiPiM8Wq8az5vQTgAOBhyLiL8C1wMmZ2TCafQpwCTCPysj4bUX7pcB2ETEP+ArQ+lcwSZIkdQGbbbYZL7/8siG8G8tMXn75ZTbbbLNW79Npc8Azc8I62k9qpu06Ko8lbG77mcCezbQvBz65YVVKkiTVzqBBg6ivr2fx4sW1LkUbYLPNNmPQoEHr37DgmzAlSZJqZNNNN2XIkCG1LkMlq9VjCCVJkqSNkgFckiRJKpEBXJIkSSqRAVySJEkqkQFckiRJKpEBXJIkSSqRAVySJEkqkQFckiRJKpEBXJIkSSqRAVySJEkqkQFckiRJKpEBXJIkSSqRAVySJEkqkQFckiRJKpEBXJIkSSqRAVySJEkqkQFckiRJKpEBXJIkSSqRAVySJEkqkQFckiRJKpEBXJIkSSqRAVySJEkqkQFckiRJKpEBXJIkSSqRAVySJEkqkQFckiRJKpEBXJIkSSqRAVySJEkqkQFckiRJKpEBXJIkSSpRpwXwiLgsIl6MiIer2iZFxPMRMbv4fLRq3ZkRMS8iHo+IQ6vaR0bEnGLd5IiIor1vREwr2v8UEYM761wkSZKkjtKZI+CXA4c1035+ZtYVn1sBImIPYDwwrNjnJxHRq9j+ImAiMLT4NBzzs8DfMvOdwPnAdzvrRCRJkqSO0mkBPDPvBl5p5eZHAFMz843MfBqYB4yOiAHA1pl5X2YmcCUwtmqfK4rla4FDGkbHJUmSpK6qFnPAT4uIh4opKtsWbQOB56q2qS/aBhbLTdvX2CczVwJLgO2a6zAiJkbEzIiYuXjx4o47E0mSJKmNyg7gFwHvAOqAhcAPivbmRq6zhfaW9lm7MfPizByVmaP69+/fpoIlSZKkjlRqAM/MRZm5KjNXAz8DRher6oGdqjYdBCwo2gc1077GPhHRG9iG1k95kSRJkmqi1ABezOlucCTQ8ISUm4DxxZNNhlC52fL+zFwILI2IfYv53ScAN1btc2KxfDRwVzFPXJIkSeqyenfWgSNiCjAG2D4i6oF/B8ZERB2VqSLzgc8DZObciLgGeARYCZyamauKQ51C5YkqmwO3FR+AS4GrImIelZHv8Z11LpIkSVJH6bQAnpkTmmm+tIXtzwXObaZ9JrBnM+3LgU9uSI2SJElS2XwTpiRJklQiA7gkSZJUIgO4JEmSVCIDuCRJklQiA7gkSZJUIgO4JEmSVCIDuCRJklQiA7gkSZJUIgO4JEmSVCIDuCRJklQiA7gkSZJUIgO4JEmSVCIDuCRJklQiA7gkSZJUIgO4JEmSVCIDuCRJklQiA7gkSZJUIgO4JEmSVCIDuCRJklQiA7gkSZJUIgO4JEmSVCIDuCRJklQiA7gkSZJUIgO4JEmSVCIDuCRJklQiA7gkSZJUIgO4JEmSVCIDuCRJklQiA7gkSZJUIgO4JEmSVKJOC+ARcVlEvBgRD1e1fS8iHouIhyLihoh4S9E+OCJej4jZxed/qvYZGRFzImJeREyOiCja+0bEtKL9TxExuLPORZIkSeoonTkCfjlwWJO2O4A9M3M48FfgzKp1T2ZmXfE5uar9ImAiMLT4NBzzs8DfMvOdwPnAdzv+FCRJkqSO1WkBPDPvBl5p0nZ7Zq4svv4RGNTSMSJiALB1Zt6XmQlcCYwtVh8BXFEsXwsc0jA6LkmSJHVVtZwD/hngtqrvQyLiwYj4XUS8v2gbCNRXbVNftDWsew6gCPVLgO06t2RJkiRpw/SuRacRcRawEri6aFoI7JyZL0fESOBXETEMaG5EOxsO08K6pv1NpDKNhZ133nlDSpckSZI2SOkj4BFxInA4cFwxrYTMfCMzXy6WZwFPAu+iMuJdPU1lELCgWK4HdiqO2RvYhiZTXhpk5sWZOSozR/Xv37/jT0qSJElqpVIDeEQcBpwBfCIzX6tq7x8RvYrlXancbPlUZi4ElkbEvsX87hOAG4vdbgJOLJaPBu5qCPSSJElSV9VpU1AiYgowBtg+IuqBf6fy1JO+wB3F/ZJ/LJ54ciBwTkSsBFYBJ2dmw2j2KVSeqLI5lTnjDfPGLwWuioh5VEa+x3fWuUiSJEkdpdMCeGZOaKb50nVsex1w3TrWzQT2bKZ9OfDJDalRkiRJKptvwpQkSZJKZACXJEmSSmQAlyRJkkpkAJckSZJKZACXJEmSSmQAlyRJkkpkAJckSZJKZACXJEmSSmQAlyRJkkpkAJckSZJKZACXJEmSSmQAlyRJkkpkAJckSZJKZACXJEmSSmQAlyRJkkpkAJckSZJKZACXJEmSStSqAB4Rd7amTZIkSVLLere0MiI2A7YAto+IbYEoVm0N7NjJtUmSJEk9TosBHPg88CUqYXsW/wzg/wAu7LyyJEmSpJ6pxQCemT8EfhgRX8jMH5VUkyRJktRjrW8EHIDM/FFEvA8YXL1PZl7ZSXVJkiRJPVKrAnhEXAW8A5gNrCqaEzCAS5IkSW3QqgAOjAL2yMzszGIkSZKknq61Afxh4O3Awk6sReo0z56zV61LYOez59S6BEmS1AW0NoBvDzwSEfcDbzQ0ZuYnOqUqSZIkqYdqbQCf1JlFSJIkSRuL1j4F5XedXYgkSZK0MWjtU1CWUnnqCUAfYFNgWWZu3VmFSZIkST1Ra0fAt6r+HhFjgdGdUZAkSZLUk23Snp0y81fAwR1biiRJktTztSqAR8RRVZ+jI+K/+OeUlHXtc1lEvBgRD1e1vTUi7oiIJ4o/t61ad2ZEzIuIxyPi0Kr2kRExp1g3OSKiaO8bEdOK9j9FxOC2nrwkSZJUttaOgH+86nMosBQ4Yj37XA4c1qTtm8CdmTkUuLP4TkTsAYwHhhX7/CQiehX7XARMBIYWn4Zjfhb4W2a+Ezgf+G4rz0WSJEmqmdbOAf90Ww+cmXc3Myp9BDCmWL4CmAGcUbRPzcw3gKcjYh4wOiLmA1tn5n0AEXElMBa4rdhnUnGsa4EfR0T4tk5JkiR1Za2dgjIoIm4oppQsiojrImJQO/p7W2YuBCj+3KFoHwg8V7VdfdE2sFhu2r7GPpm5ElgCbLeO+idGxMyImLl48eJ2lC1JkiR1jNZOQfk5cBOwI5Xge3PR1lGimbZsob2lfdZuzLw4M0dl5qj+/fu3s0RJkiRpw7U2gPfPzJ9n5sricznQniS7KCIGABR/vli01wM7VW03CFhQtA9qpn2NfSKiN7AN8Eo7apIkSZJK09oA/lJEfCoiehWfTwEvt6O/m4ATi+UTgRur2scXTzYZQuVmy/uLaSpLI2Lf4uknJzTZp+FYRwN3Of9bkiRJXV2rbsIEPgP8mMrTRhL4A9DijZkRMYXKDZfbR0Q98O/AfwHXRMRngWeBTwJk5tyIuAZ4BFgJnJqZq4pDnULliSqbU7n58rai/VLgquKGzVeoPEVFkiRJ6tJaG8D/AzgxM/8Gled5A9+nEsyblZkT1rHqkHVsfy5wbjPtM4E9m2lfThHgJUmSpO6itVNQhjeEb4DMfAV4T+eUJEmSJPVcrQ3gmzR5a+Vbaf3ouSRJkqRCa0P0D4A/RMS1VOaAH0Mz00UkSZIktay1b8K8MiJmAgdTef72UZn5SKdWJkmSJPVArZ5GUgRuQ7ckSZK0AVo7B1ySJElSBzCAS5IkSSUygEuSJEklMoBLkiRJJTKAS5IkSSUygEuSJEklMoBLkiRJJTKAS5IkSSUygEuSJEklMoBLkiRJJTKAS5IkSSUygEuSJEklMoBLkiRJJTKAS5IkSSUygEuSJEklMoBLkiRJJTKAS5IkSSUygEuSJEklMoBLkiRJJTKAS5IkSSUygEuSJEklMoBLkiRJJTKAS5IkSSUygEuSJEklMoBLkiRJJSo9gEfEbhExu+rzj4j4UkRMiojnq9o/WrXPmRExLyIej4hDq9pHRsScYt3kiIiyz0eSJElqi9IDeGY+npl1mVkHjAReA24oVp/fsC4zbwWIiD2A8cAw4DDgJxHRq9j+ImAiMLT4HFbemUiSJEltV+spKIcAT2bmMy1scwQwNTPfyMyngXnA6IgYAGydmfdlZgJXAmM7vWJJkiRpA9Q6gI8HplR9Py0iHoqIyyJi26JtIPBc1Tb1RdvAYrlpuyRJktRl1SyAR0Qf4BPA/xZNFwHvAOqAhcAPGjZtZvdsob25viZGxMyImLl48eINKVuSJEnaILUcAf8I8OfMXASQmYsyc1VmrgZ+BowutqsHdqrabxCwoGgf1Ez7WjLz4swclZmj+vfv38GnIUmSJLVeLQP4BKqmnxRzuhscCTxcLN8EjI+IvhExhMrNlvdn5kJgaUTsWzz95ATgxnJKlyRJktqndy06jYgtgA8Bn69q/u+IqKMyjWR+w7rMnBsR1wCPACuBUzNzVbHPKcDlwObAbcVHkiRJ6rJqEsAz8zVguyZtx7ew/bnAuc20zwT27PACJUmSpE5S66egSJIkSRsVA7gkSZJUIgO4JEmSVCIDuCRJklQiA7gkSZJUIgO4JEmSVCIDuCRJklQiA7gkSZJUIgO4JEmSVCIDuCRJklQiA7gkSZJUIgO4JEmSVCIDuCRJklQiA7gkSZJUot61LkBS6438+pW1LoEbtqp1BZIkdW+OgEuSJEklMoBLkiRJJTKAS5IkSSUygEuSJEklMoBLkiRJJTKAS5IkSSUygEuSJEklMoBLkiRJJTKAS5IkSSUygEuSJEklMoBLkiRJJTKAS5IkSSUygEuSJEklMoBLkiRJJTKAS5IkSSWqSQCPiPkRMSciZkfEzKLtrRFxR0Q8Ufy5bdX2Z0bEvIh4PCIOrWofWRxnXkRMjoioxflIkiRJrVXLEfCDMrMuM0cV378J3JmZQ4E7i+9ExB7AeGAYcBjwk4joVexzETARGFp8DiuxfkmSJKnNutIUlCOAK4rlK4CxVe1TM/ONzHwamAeMjogBwNaZeV9mJnBl1T6SJElSl1SrAJ7A7RExKyImFm1vy8yFAMWfOxTtA4HnqvatL9oGFstN2yVJkqQuq3eN+t0/MxdExA7AHRHxWAvbNjevO1toX/sAlZA/EWDnnXdua62SJElSh6nJCHhmLij+fBG4ARgNLCqmlVD8+WKxeT2wU9Xug4AFRfugZtqb6+/izByVmaP69+/fkaciSZIktUnpATwitoyIrRqWgQ8DDwM3AScWm50I3Fgs3wSMj4i+ETGEys2W9xfTVJZGxL7F009OqNpHkiRJ6pJqMQXlbcANxRMDewO/zMxfR8QDwDUR8VngWeCTAJk5NyKuAR4BVgKnZuaq4linAJcDmwO3FR9JkiSpyyo9gGfmU8DezbS/DByyjn3OBc5tpn0msGdH1yhJkiR1llrdhKmNxMivX1nrEgC4YataVyBJklTRlZ4DLkmSJPV4BnBJkiSpRAZwSZIkqUQGcEmSJKlEBnBJkiSpRAZwSZIkqUQGcEmSJKlEBnBJkiSpRAZwSZIkqUQGcEmSJKlEBnBJkiSpRAZwSZIkqUQGcEmSJKlEBnBJkiSpRAZwSZIkqUQGcEmSJKlEBnBJkiSpRAZwSZIkqUQGcEmSJKlEBnBJkiSpRAZwSZIkqUS9a12AJEkd5dlz9qp1Cex89pxalyCpi3MEXJIkSSqRAVySJEkqkQFckiRJKpEBXJIkSSqRAVySJEkqkQFckiRJKpEBXJIkSSqRAVySJEkqUekBPCJ2iojpEfFoRMyNiC8W7ZMi4vmImF18Plq1z5kRMS8iHo+IQ6vaR0bEnGLd5IiIss9HkiRJaotavAlzJfDVzPxzRGwFzIqIO4p152fm96s3jog9gPHAMGBH4LcR8a7MXAVcBEwE/gjcChwG3FbSeUiSJEltVvoIeGYuzMw/F8tLgUeBgS3scgQwNTPfyMyngXnA6IgYAGydmfdlZgJXAmM7t3pJkiRpw9R0DnhEDAbeA/ypaDotIh6KiMsiYtuibSDwXNVu9UXbwGK5aXtz/UyMiJkRMXPx4sUdeQqSJElSm9QsgEdEP+A64EuZ+Q8q00neAdQBC4EfNGzazO7ZQvvajZkXZ+aozBzVv3//DS1dkiRJareaBPCI2JRK+L46M68HyMxFmbkqM1cDPwNGF5vXAztV7T4IWFC0D2qmXZIkSeqyavEUlAAuBR7NzPOq2gdUbXYk8HCxfBMwPiL6RsQQYChwf2YuBJZGxL7FMU8AbizlJCRJkqR2qsVTUPYHjgfmRMTsou1fgQkRUUdlGsl84PMAmTk3Iq4BHqHyBJVTiyegAJwCXA5sTuXpJz4BRZIkSV1a6QE8M++l+fnbt7awz7nAuc20zwT27LjqJEmSpM7lmzAlSZKkEhnAJUmSpBIZwCVJkqQSGcAlSZKkEhnAJUmSpBIZwCVJkqQSGcAlSZKkEhnAJUmSpBIZwCVJkqQSGcAlSZKkEhnAJUmSpBIZwCVJkqQSGcAlSZKkEvWudQGSJEk93bPn7FXrEgDY+ew5tS5BOAIuSZIklcoALkmSJJXIAC5JkiSVyAAuSZIklcgALkmSJJXIp6BIkqS1+NQOqfMYwCVJG2zk16+sdQkA3LBVrSuQpPVzCookSZJUIgO4JEmSVCIDuCRJklQiA7gkSZJUIm/ClCRJPVpXuEnYG4RVzQAuSTXko94kaePjFBRJkiSpRI6AS5IkqVvpCr893JDfHBrAJUnqYpyzLPVs3X4KSkQcFhGPR8S8iPhmreuRJEmSWtKtA3hE9AIuBD4C7AFMiIg9aluVJEmStG7dfQrKaGBeZj4FEBFTgSOAR2paVQfo7nObpO7AX/NLUtt0hf9uQvf/b2d3D+ADgeeqvtcD792QA/oXS5IkSZ0pMrPWNbRbRHwSODQzP1d8Px4YnZlfaLLdRGBi8XU34PFSC22f7YGXal1ED+L17Dhey47l9exYXs+O47XsWF7PjtVdrucumdm/aWN3HwGvB3aq+j4IWNB0o8y8GLi4rKI6QkTMzMxRta6jp/B6dhyvZcfyenYsr2fH8Vp2LK9nx+ru17Nb34QJPAAMjYghEdEHGA/cVOOaJEmSpHXq1iPgmbkyIk4DfgP0Ai7LzLk1LkuSJElap24dwAEy81bg1lrX0Qm61ZSZbsDr2XG8lh3L69mxvJ4dx2vZsbyeHatbX89ufROmJEmS1N109zngkiRJUrdiAO9iIuKwiHg8IuZFxDdrXU93FxGXRcSLEfFwrWvp7iJip4iYHhGPRsTciPhirWvqziJis4i4PyL+UlzPb9e6pu4uInpFxIMRcUuta+nuImJ+RMyJiNkRMbPW9XR3EfGWiLg2Ih4r/hu6X61r6o4iYrfi72TD5x8R8aVa19UeTkHpQiKiF/BX4ENUHrH4ADAhM7v9mz1rJSIOBF4FrszMPWtdT3cWEQOAAZn554jYCpgFjPXvZ/tERABbZuarEbEpcC/wxcz8Y41L67Yi4ivAKGDrzDy81vV0ZxExHxiVmd3hOctdXkRcAdyTmZcUT23bIjP/XuOyurUiMz0PvDczn6l1PW3lCHjXMhqYl5lPZeabwFTgiBrX1K1l5t3AK7WuoyfIzIWZ+edieSnwKJW30aodsuLV4uumxccRkXaKiEHAx4BLal2LVC0itgYOBC4FyMw3Dd8d4hDgye4YvsEA3tUMBJ6r+l6PAUddUEQMBt4D/KnGpXRrxZSJ2cCLwB2Z6fVsvwuAbwCra1xHT5HA7RExq3ibtNpvV2Ax8PNiitQlEbFlrYvqAcYDU2pdRHsZwLuWaKbNETF1KRHRD7gO+FJm/qPW9XRnmbkqM+uovMV3dEQ4TaodIuJw4MXMnFXrWnqQ/TNzBPAR4NRiOp/apzcwArgoM98DLAO8x2sDFNN4PgH8b61raS8DeNdSD+xU9X0QsKBGtUhrKeYqXwdcnZnX17qenqL4dfQM4LDaVtJt7Q98opi3PBU4OCJ+UduSurfMXFD8+SJwA5UpkmqfeqC+6jdc11IJ5Gq/jwB/zsxFtS6kvQzgXcsDwNCIGFL86248cFONa5KAxpsGLwUezczzal1PdxcR/SPiLcXy5sAHgcdqWlQ3lZlnZuagzBxM5b+bd2Xmp2pcVrcVEVsWN1pTTJX4MOCTpNopM18AnouI3YqmQwBvXt8wE+jG00+gB7wJsyfJzJURcRrwG6AXcFlmzq1xWd1aREwBxgDbR0Q98O+ZeWltq+q29geOB+YU85YB/rV4G63abgBwRXEn/ybANZnp4/PUFbwNuKHyb256A7/MzF/XtqRu7wvA1cXg2lPAp2tcT7cVEVtQeVrc52tdy4bwMYSSJElSiZyCIkmSJJXIAC5JkiSVyAAuSZIklcgALkmSJJXIAC5JkiSVyAAuSZIklcgALkk1FBEZEVdVfe8dEYsj4pYm290YEfc1aZsUEc9HxOyIeCQiJlStuzwijo6IG4r18yJiSbE8OyLeV2z3l+J5+TTdtxW1bxIRkyPi4YiYExEPFC8S+1PRx7PFuTT0Obg4v5ci4v8Vxzirav2qquXTm6sjIl5tqe/WX3lJqh1fxCNJtbUM2DMiNs/M16m8YOL56g2KN2aOAF6NiCGZ+XTV6vMz8/sRMRSYFRHXZuaKhpWZeWRxjDHA1zLz8Krj7k5lIObAiNgyM5e1sfZxwI7A8MxcHRGDgGWZ+d7i+CcBozLztKo+Pwo8DhwTEf+amecC5xbrXs3MuqptL29r322sX5JqwhFwSaq924CPFcvNvWL5X4CbgalUXrW+lsx8AngN2LYN/R4LXAXcDnyiDfs1GAAszMzVRQ31mfm39ewzAfgh8Cywbzv63JC+JalLMIBLUu1NBcZHxGbAcOBPTdY3hPIpxfJaImIE8ERmvtiGfscB01o67npcA3y8mDLyg4h4T0sbR8TmwCHALRvQZ7v6lqSuxAAuSTWWmQ8Bg6kE0lur10XE24B3Avdm5l+BlRGxZ9UmX46Ix6mE9kmt7TMi9gEWZ+YzwJ3AiIhoy+g5mVkP7AacCawG7oyIQ1rY5XBgema+BlwHHBkRvVrqYl1t7ehbkroMA7gkdQ03Ad9n7ekn46hMK3k6IuZTCerV01DOz8zdiu2uLEbRW2MC8O7imE8CW1OZ6tImmflGZt6WmV8HvgOMXU+fHyz6nAVsBxzUwvYvUzWlJiLeCrzUzr4lqcswgEtS13AZcE5mzmnSPgE4LDMHZ+ZgYCTNzAPPzOuBmcCJ6+soIjYBPknlBsaG4x5BG6eERMSIiNix6pjDgWfWse3WwAHAzlV9nrqePmcA4yKiT/H9JGB6W/uWpK7GAC5JXUBxE+EPq9siYjCwM/DHqu2eBv4REe9t5jDnAF8pAmlLDgSez8zqp63cDewREQOK7z+NiPric9/ahwBgB+DmiHgYeAhYCfx4HdseBdyVmW9Utd0IfCIi+ja3Q2beAtxD5ekus4H9gTPa0bckdSmR2dwUO0mSJEmdwRFwSZIkqUS+iEeS1KKI2IvK88KrvdHwwh1JUts4BUWSJEkqkVNQJEmSpBIZwCVJkqQSGcAlSZKkEhnAJUmSpBIZwCVJkqQS/f+f3SHNWi9uvwAAAABJRU5ErkJggg==\n",
      "text/plain": [
       "<Figure size 864x432 with 1 Axes>"
      ]
     },
     "metadata": {
      "needs_background": "light"
     },
     "output_type": "display_data"
    }
   ],
   "source": [
    "fig, ax = plt.subplots(figsize = (12,6))\n",
    "sns.countplot(x=df_impfeatures['MARITAL_STATUS'], hue='TARGET_LABEL', data=df_impfeatures, ax=ax)\n",
    "ax.set_title(\"Distribution By Marital Status\")\n",
    "plt.show()"
   ]
  },
  {
   "cell_type": "code",
<<<<<<< HEAD
   "execution_count": 214,
=======
   "execution_count": 190,
>>>>>>> eaf74c204ed1eb8292e533ebb7217424d7130592
   "id": "f88392bb",
   "metadata": {},
   "outputs": [],
   "source": [
    "# we see that customers with martial status 1(30.45%) and marital status 6(29.14) have higher likelyhood \n",
    "#of deliquency"
   ]
  },
  {
   "cell_type": "code",
<<<<<<< HEAD
   "execution_count": 215,
=======
   "execution_count": 191,
>>>>>>> eaf74c204ed1eb8292e533ebb7217424d7130592
   "id": "694ebc6e",
   "metadata": {},
   "outputs": [
    {
     "data": {
      "text/plain": [
       "Index(['APPLICATION_SUBMISSION_TYPE', 'GENDER', 'AGE', 'MARITAL_STATUS',\n",
       "       'MONTHS_IN_RESIDENCE', 'PERSONAL_MONTHLY_INCOME', 'QUANT_CARS',\n",
       "       'QUANT_BANKING_ACCOUNTS', 'QUANT_DEPENDANTS', 'TARGET_LABEL',\n",
       "       'age_group'],\n",
       "      dtype='object')"
      ]
     },
<<<<<<< HEAD
     "execution_count": 215,
=======
     "execution_count": 191,
>>>>>>> eaf74c204ed1eb8292e533ebb7217424d7130592
     "metadata": {},
     "output_type": "execute_result"
    }
   ],
   "source": [
    "df_impfeatures.columns"
   ]
  },
  {
   "cell_type": "code",
<<<<<<< HEAD
   "execution_count": 216,
=======
   "execution_count": 192,
>>>>>>> eaf74c204ed1eb8292e533ebb7217424d7130592
   "id": "6513cb0e",
   "metadata": {},
   "outputs": [],
   "source": [
    "features = ['MONTHS_IN_RESIDENCE', 'PERSONAL_MONTHLY_INCOME', 'QUANT_CARS',\n",
    "       'QUANT_BANKING_ACCOUNTS', 'QUANT_DEPENDANTS', 'TARGET_LABEL']"
   ]
  },
  {
   "cell_type": "code",
<<<<<<< HEAD
   "execution_count": 217,
=======
   "execution_count": 193,
>>>>>>> eaf74c204ed1eb8292e533ebb7217424d7130592
   "id": "5aff2b3a",
   "metadata": {},
   "outputs": [
    {
     "name": "stdout",
     "output_type": "stream",
     "text": [
      "\n",
      "Feature: MONTHS_IN_RESIDENCE\n",
      "10     7573\n",
      "1      7338\n",
      "0      4695\n",
      "5      3561\n",
      "2      3216\n",
      "       ... \n",
      "71        1\n",
      "90        1\n",
      "82        1\n",
      "100       1\n",
      "89        1\n",
      "Name: MONTHS_IN_RESIDENCE, Length: 88, dtype: int64\n",
      "\n",
      "Feature: PERSONAL_MONTHLY_INCOME\n",
      "350.00     6896\n",
      "500.00     1453\n",
      "400.00     1401\n",
      "380.00     1362\n",
      "600.00     1198\n",
      "           ... \n",
      "5732.55       1\n",
      "2976.44       1\n",
      "486.57        1\n",
      "960.04        1\n",
      "719.38        1\n",
      "Name: PERSONAL_MONTHLY_INCOME, Length: 5493, dtype: int64\n",
      "\n",
      "Feature: QUANT_CARS\n",
      "0    33189\n",
      "1    16794\n",
      "Name: QUANT_CARS, dtype: int64\n",
      "\n",
      "Feature: QUANT_BANKING_ACCOUNTS\n",
      "0    32116\n",
      "1    17853\n",
      "2       14\n",
      "Name: QUANT_BANKING_ACCOUNTS, dtype: int64\n",
      "\n",
      "Feature: QUANT_DEPENDANTS\n",
      "0     33644\n",
      "1      7003\n",
      "2      5360\n",
      "3      2464\n",
      "4       860\n",
      "5       365\n",
      "6       138\n",
      "7        65\n",
      "8        35\n",
      "9        14\n",
      "10       13\n",
      "11        7\n",
      "12        6\n",
      "13        4\n",
      "14        3\n",
      "15        1\n",
      "53        1\n",
      "Name: QUANT_DEPENDANTS, dtype: int64\n",
      "\n",
      "Feature: TARGET_LABEL\n",
      "Non-Delinquent    36949\n",
      "Delinquent        13034\n",
      "Name: TARGET_LABEL, dtype: int64\n"
     ]
    }
   ],
   "source": [
    "for feature in features:\n",
    "    print(f\"\\nFeature: {feature}\")\n",
    "    print(df_impfeatures[feature].value_counts())"
   ]
  },
  {
   "cell_type": "code",
<<<<<<< HEAD
   "execution_count": 218,
=======
   "execution_count": 194,
>>>>>>> eaf74c204ed1eb8292e533ebb7217424d7130592
   "id": "19729096",
   "metadata": {},
   "outputs": [],
   "source": [
    "#for those features having more unique values like MONTHS_IN_RESIDENCE, PERSONAL_MONTHLY_INCOME, QUANT_DEPENDANTS\n",
    "#do exactly what we did with age\n",
    "# and for other features do what we did with martial status and gender"
   ]
  },
  {
   "cell_type": "code",
<<<<<<< HEAD
   "execution_count": 219,
=======
   "execution_count": 195,
>>>>>>> eaf74c204ed1eb8292e533ebb7217424d7130592
   "id": "c1b4367c",
   "metadata": {},
   "outputs": [
    {
     "data": {
      "text/plain": [
       "Index(['APPLICATION_SUBMISSION_TYPE', 'GENDER', 'AGE', 'MARITAL_STATUS',\n",
       "       'MONTHS_IN_RESIDENCE', 'PERSONAL_MONTHLY_INCOME', 'QUANT_CARS',\n",
       "       'QUANT_BANKING_ACCOUNTS', 'QUANT_DEPENDANTS', 'TARGET_LABEL',\n",
       "       'age_group'],\n",
       "      dtype='object')"
      ]
     },
<<<<<<< HEAD
     "execution_count": 219,
=======
     "execution_count": 195,
>>>>>>> eaf74c204ed1eb8292e533ebb7217424d7130592
     "metadata": {},
     "output_type": "execute_result"
    }
   ],
   "source": [
    "df_impfeatures.columns\n"
   ]
  },
  {
   "cell_type": "markdown",
<<<<<<< HEAD
   "id": "09335ff6",
=======
   "id": "eb89dfb6",
>>>>>>> eaf74c204ed1eb8292e533ebb7217424d7130592
   "metadata": {},
   "source": [
    "# Building a Machine Learning Model"
   ]
  },
  {
<<<<<<< HEAD
   "cell_type": "markdown",
   "id": "01b4befd",
   "metadata": {},
   "source": [
    "## Inbalanced Data: Many more rows in the dataset that have a target value of 1 compared to the rows that have a target value of 0. This class imbalance can potentially affect the performance of your machine learning model, as the model might be biased towards predicting the majority class more frequently than the minority class."
   ]
  },
  {
   "cell_type": "code",
   "execution_count": 220,
   "id": "19350060",
=======
   "cell_type": "code",
   "execution_count": 239,
   "id": "278e982c",
>>>>>>> eaf74c204ed1eb8292e533ebb7217424d7130592
   "metadata": {},
   "outputs": [
    {
     "data": {
      "text/html": [
       "<div>\n",
       "<style scoped>\n",
       "    .dataframe tbody tr th:only-of-type {\n",
       "        vertical-align: middle;\n",
       "    }\n",
       "\n",
       "    .dataframe tbody tr th {\n",
       "        vertical-align: top;\n",
       "    }\n",
       "\n",
       "    .dataframe thead th {\n",
       "        text-align: right;\n",
       "    }\n",
       "</style>\n",
       "<table border=\"1\" class=\"dataframe\">\n",
       "  <thead>\n",
       "    <tr style=\"text-align: right;\">\n",
       "      <th></th>\n",
       "      <th>APPLICATION_SUBMISSION_TYPE</th>\n",
       "      <th>GENDER</th>\n",
       "      <th>AGE</th>\n",
       "      <th>MARITAL_STATUS</th>\n",
       "      <th>MONTHS_IN_RESIDENCE</th>\n",
       "      <th>PERSONAL_MONTHLY_INCOME</th>\n",
       "      <th>QUANT_CARS</th>\n",
       "      <th>QUANT_BANKING_ACCOUNTS</th>\n",
       "      <th>QUANT_DEPENDANTS</th>\n",
       "      <th>TARGET_LABEL</th>\n",
       "      <th>age_group</th>\n",
       "    </tr>\n",
       "  </thead>\n",
       "  <tbody>\n",
       "    <tr>\n",
       "      <th>0</th>\n",
       "      <td>Web</td>\n",
       "      <td>F</td>\n",
       "      <td>32</td>\n",
       "      <td>6</td>\n",
       "      <td>15</td>\n",
       "      <td>900.0</td>\n",
       "      <td>0</td>\n",
       "      <td>0</td>\n",
       "      <td>1</td>\n",
       "      <td>Delinquent</td>\n",
       "      <td>30-39</td>\n",
       "    </tr>\n",
       "    <tr>\n",
       "      <th>1</th>\n",
       "      <td>Paper</td>\n",
       "      <td>F</td>\n",
       "      <td>34</td>\n",
       "      <td>2</td>\n",
       "      <td>1</td>\n",
       "      <td>750.0</td>\n",
       "      <td>0</td>\n",
       "      <td>0</td>\n",
       "      <td>0</td>\n",
       "      <td>Delinquent</td>\n",
       "      <td>30-39</td>\n",
       "    </tr>\n",
       "    <tr>\n",
       "      <th>2</th>\n",
       "      <td>Web</td>\n",
       "      <td>F</td>\n",
       "      <td>27</td>\n",
       "      <td>2</td>\n",
       "      <td>10</td>\n",
       "      <td>500.0</td>\n",
       "      <td>0</td>\n",
       "      <td>0</td>\n",
       "      <td>0</td>\n",
       "      <td>Non-Delinquent</td>\n",
       "      <td>15-29</td>\n",
       "    </tr>\n",
       "    <tr>\n",
       "      <th>3</th>\n",
       "      <td>Web</td>\n",
       "      <td>F</td>\n",
       "      <td>61</td>\n",
       "      <td>2</td>\n",
       "      <td>10</td>\n",
       "      <td>500.0</td>\n",
       "      <td>0</td>\n",
       "      <td>0</td>\n",
       "      <td>0</td>\n",
       "      <td>Non-Delinquent</td>\n",
       "      <td>60-69</td>\n",
       "    </tr>\n",
       "    <tr>\n",
       "      <th>4</th>\n",
       "      <td>Web</td>\n",
       "      <td>M</td>\n",
       "      <td>48</td>\n",
       "      <td>2</td>\n",
       "      <td>12</td>\n",
       "      <td>1200.0</td>\n",
       "      <td>0</td>\n",
       "      <td>0</td>\n",
       "      <td>0</td>\n",
       "      <td>Delinquent</td>\n",
       "      <td>40-49</td>\n",
       "    </tr>\n",
       "  </tbody>\n",
       "</table>\n",
       "</div>"
      ],
      "text/plain": [
       "  APPLICATION_SUBMISSION_TYPE GENDER  AGE  MARITAL_STATUS  \\\n",
       "0                         Web      F   32               6   \n",
       "1                       Paper      F   34               2   \n",
       "2                         Web      F   27               2   \n",
       "3                         Web      F   61               2   \n",
       "4                         Web      M   48               2   \n",
       "\n",
       "   MONTHS_IN_RESIDENCE  PERSONAL_MONTHLY_INCOME  QUANT_CARS  \\\n",
       "0                   15                    900.0           0   \n",
       "1                    1                    750.0           0   \n",
       "2                   10                    500.0           0   \n",
       "3                   10                    500.0           0   \n",
       "4                   12                   1200.0           0   \n",
       "\n",
       "   QUANT_BANKING_ACCOUNTS  QUANT_DEPENDANTS    TARGET_LABEL age_group  \n",
       "0                       0                 1      Delinquent     30-39  \n",
       "1                       0                 0      Delinquent     30-39  \n",
       "2                       0                 0  Non-Delinquent     15-29  \n",
       "3                       0                 0  Non-Delinquent     60-69  \n",
       "4                       0                 0      Delinquent     40-49  "
      ]
     },
<<<<<<< HEAD
     "execution_count": 220,
=======
     "execution_count": 239,
>>>>>>> eaf74c204ed1eb8292e533ebb7217424d7130592
     "metadata": {},
     "output_type": "execute_result"
    }
   ],
   "source": [
<<<<<<< HEAD
    "# let's build a machine learning model with inbalanced dataset and evaluate it\n",
=======
>>>>>>> eaf74c204ed1eb8292e533ebb7217424d7130592
    "final_df = df_impfeatures.copy()\n",
    "final_df.head()"
   ]
  },
  {
   "cell_type": "code",
<<<<<<< HEAD
   "execution_count": 221,
   "id": "bd05a268",
=======
   "execution_count": 240,
   "id": "b887c1d0",
>>>>>>> eaf74c204ed1eb8292e533ebb7217424d7130592
   "metadata": {},
   "outputs": [
    {
     "data": {
      "text/html": [
       "<div>\n",
       "<style scoped>\n",
       "    .dataframe tbody tr th:only-of-type {\n",
       "        vertical-align: middle;\n",
       "    }\n",
       "\n",
       "    .dataframe tbody tr th {\n",
       "        vertical-align: top;\n",
       "    }\n",
       "\n",
       "    .dataframe thead th {\n",
       "        text-align: right;\n",
       "    }\n",
       "</style>\n",
       "<table border=\"1\" class=\"dataframe\">\n",
       "  <thead>\n",
       "    <tr style=\"text-align: right;\">\n",
       "      <th></th>\n",
       "      <th>APPLICATION_SUBMISSION_TYPE</th>\n",
       "      <th>GENDER</th>\n",
       "      <th>AGE</th>\n",
       "      <th>MARITAL_STATUS</th>\n",
       "      <th>MONTHS_IN_RESIDENCE</th>\n",
       "      <th>PERSONAL_MONTHLY_INCOME</th>\n",
       "      <th>QUANT_CARS</th>\n",
       "      <th>QUANT_BANKING_ACCOUNTS</th>\n",
       "      <th>QUANT_DEPENDANTS</th>\n",
       "      <th>TARGET_LABEL</th>\n",
       "    </tr>\n",
       "  </thead>\n",
       "  <tbody>\n",
       "    <tr>\n",
       "      <th>0</th>\n",
       "      <td>Web</td>\n",
       "      <td>F</td>\n",
       "      <td>32</td>\n",
       "      <td>6</td>\n",
       "      <td>15</td>\n",
       "      <td>900.0</td>\n",
       "      <td>0</td>\n",
       "      <td>0</td>\n",
       "      <td>1</td>\n",
       "      <td>Delinquent</td>\n",
       "    </tr>\n",
       "    <tr>\n",
       "      <th>1</th>\n",
       "      <td>Paper</td>\n",
       "      <td>F</td>\n",
       "      <td>34</td>\n",
       "      <td>2</td>\n",
       "      <td>1</td>\n",
       "      <td>750.0</td>\n",
       "      <td>0</td>\n",
       "      <td>0</td>\n",
       "      <td>0</td>\n",
       "      <td>Delinquent</td>\n",
       "    </tr>\n",
       "    <tr>\n",
       "      <th>2</th>\n",
       "      <td>Web</td>\n",
       "      <td>F</td>\n",
       "      <td>27</td>\n",
       "      <td>2</td>\n",
       "      <td>10</td>\n",
       "      <td>500.0</td>\n",
       "      <td>0</td>\n",
       "      <td>0</td>\n",
       "      <td>0</td>\n",
       "      <td>Non-Delinquent</td>\n",
       "    </tr>\n",
       "    <tr>\n",
       "      <th>3</th>\n",
       "      <td>Web</td>\n",
       "      <td>F</td>\n",
       "      <td>61</td>\n",
       "      <td>2</td>\n",
       "      <td>10</td>\n",
       "      <td>500.0</td>\n",
       "      <td>0</td>\n",
       "      <td>0</td>\n",
       "      <td>0</td>\n",
       "      <td>Non-Delinquent</td>\n",
       "    </tr>\n",
       "    <tr>\n",
       "      <th>4</th>\n",
       "      <td>Web</td>\n",
       "      <td>M</td>\n",
       "      <td>48</td>\n",
       "      <td>2</td>\n",
       "      <td>12</td>\n",
       "      <td>1200.0</td>\n",
       "      <td>0</td>\n",
       "      <td>0</td>\n",
       "      <td>0</td>\n",
       "      <td>Delinquent</td>\n",
       "    </tr>\n",
       "  </tbody>\n",
       "</table>\n",
       "</div>"
      ],
      "text/plain": [
       "  APPLICATION_SUBMISSION_TYPE GENDER  AGE  MARITAL_STATUS  \\\n",
       "0                         Web      F   32               6   \n",
       "1                       Paper      F   34               2   \n",
       "2                         Web      F   27               2   \n",
       "3                         Web      F   61               2   \n",
       "4                         Web      M   48               2   \n",
       "\n",
       "   MONTHS_IN_RESIDENCE  PERSONAL_MONTHLY_INCOME  QUANT_CARS  \\\n",
       "0                   15                    900.0           0   \n",
       "1                    1                    750.0           0   \n",
       "2                   10                    500.0           0   \n",
       "3                   10                    500.0           0   \n",
       "4                   12                   1200.0           0   \n",
       "\n",
       "   QUANT_BANKING_ACCOUNTS  QUANT_DEPENDANTS    TARGET_LABEL  \n",
       "0                       0                 1      Delinquent  \n",
       "1                       0                 0      Delinquent  \n",
       "2                       0                 0  Non-Delinquent  \n",
       "3                       0                 0  Non-Delinquent  \n",
       "4                       0                 0      Delinquent  "
      ]
     },
<<<<<<< HEAD
     "execution_count": 221,
=======
     "execution_count": 240,
>>>>>>> eaf74c204ed1eb8292e533ebb7217424d7130592
     "metadata": {},
     "output_type": "execute_result"
    }
   ],
   "source": [
    "#dropping age_group column from our final dataset\n",
    "final_df = final_df.drop('age_group', axis = 1)\n",
    "\n",
    "final_df.head()"
   ]
  },
  {
   "cell_type": "code",
<<<<<<< HEAD
   "execution_count": 222,
   "id": "85331b0c",
=======
   "execution_count": 241,
   "id": "997afe74",
>>>>>>> eaf74c204ed1eb8292e533ebb7217424d7130592
   "metadata": {},
   "outputs": [],
   "source": [
    "# first we have to encode all the categorical feature columns to numeric value \n",
    "\n",
    "from sklearn.preprocessing import LabelEncoder\n",
    "\n",
    "cols_to_encode = ['APPLICATION_SUBMISSION_TYPE', 'GENDER', 'TARGET_LABEL']\n",
    "\n",
    "\n",
    "encoders = {}\n",
    "for feature in cols_to_encode:\n",
    "    encoder = LabelEncoder()\n",
    "    encoder.fit(final_df[feature])\n",
    "    encoders[feature] = encoder\n",
    "\n",
    "# Transform the categorical features using the encoders\n",
    "for feature, encoder in encoders.items():\n",
    "     final_df[feature] = encoder.transform(final_df[feature])"
   ]
  },
  {
   "cell_type": "code",
<<<<<<< HEAD
   "execution_count": 223,
   "id": "c7cb8ecc",
=======
   "execution_count": 242,
   "id": "e1f3d314",
>>>>>>> eaf74c204ed1eb8292e533ebb7217424d7130592
   "metadata": {},
   "outputs": [
    {
     "data": {
      "text/html": [
       "<div>\n",
       "<style scoped>\n",
       "    .dataframe tbody tr th:only-of-type {\n",
       "        vertical-align: middle;\n",
       "    }\n",
       "\n",
       "    .dataframe tbody tr th {\n",
       "        vertical-align: top;\n",
       "    }\n",
       "\n",
       "    .dataframe thead th {\n",
       "        text-align: right;\n",
       "    }\n",
       "</style>\n",
       "<table border=\"1\" class=\"dataframe\">\n",
       "  <thead>\n",
       "    <tr style=\"text-align: right;\">\n",
       "      <th></th>\n",
       "      <th>APPLICATION_SUBMISSION_TYPE</th>\n",
       "      <th>GENDER</th>\n",
       "      <th>AGE</th>\n",
       "      <th>MARITAL_STATUS</th>\n",
       "      <th>MONTHS_IN_RESIDENCE</th>\n",
       "      <th>PERSONAL_MONTHLY_INCOME</th>\n",
       "      <th>QUANT_CARS</th>\n",
       "      <th>QUANT_BANKING_ACCOUNTS</th>\n",
       "      <th>QUANT_DEPENDANTS</th>\n",
       "      <th>TARGET_LABEL</th>\n",
       "    </tr>\n",
       "  </thead>\n",
       "  <tbody>\n",
       "    <tr>\n",
       "      <th>0</th>\n",
       "      <td>2</td>\n",
       "      <td>0</td>\n",
       "      <td>32</td>\n",
       "      <td>6</td>\n",
       "      <td>15</td>\n",
       "      <td>900.0</td>\n",
       "      <td>0</td>\n",
       "      <td>0</td>\n",
       "      <td>1</td>\n",
       "      <td>0</td>\n",
       "    </tr>\n",
       "    <tr>\n",
       "      <th>1</th>\n",
       "      <td>1</td>\n",
       "      <td>0</td>\n",
       "      <td>34</td>\n",
       "      <td>2</td>\n",
       "      <td>1</td>\n",
       "      <td>750.0</td>\n",
       "      <td>0</td>\n",
       "      <td>0</td>\n",
       "      <td>0</td>\n",
       "      <td>0</td>\n",
       "    </tr>\n",
       "    <tr>\n",
       "      <th>2</th>\n",
       "      <td>2</td>\n",
       "      <td>0</td>\n",
       "      <td>27</td>\n",
       "      <td>2</td>\n",
       "      <td>10</td>\n",
       "      <td>500.0</td>\n",
       "      <td>0</td>\n",
       "      <td>0</td>\n",
       "      <td>0</td>\n",
       "      <td>1</td>\n",
       "    </tr>\n",
       "    <tr>\n",
       "      <th>3</th>\n",
       "      <td>2</td>\n",
       "      <td>0</td>\n",
       "      <td>61</td>\n",
       "      <td>2</td>\n",
       "      <td>10</td>\n",
       "      <td>500.0</td>\n",
       "      <td>0</td>\n",
       "      <td>0</td>\n",
       "      <td>0</td>\n",
       "      <td>1</td>\n",
       "    </tr>\n",
       "    <tr>\n",
       "      <th>4</th>\n",
       "      <td>2</td>\n",
       "      <td>1</td>\n",
       "      <td>48</td>\n",
       "      <td>2</td>\n",
       "      <td>12</td>\n",
       "      <td>1200.0</td>\n",
       "      <td>0</td>\n",
       "      <td>0</td>\n",
       "      <td>0</td>\n",
       "      <td>0</td>\n",
       "    </tr>\n",
       "  </tbody>\n",
       "</table>\n",
       "</div>"
      ],
      "text/plain": [
       "   APPLICATION_SUBMISSION_TYPE  GENDER  AGE  MARITAL_STATUS  \\\n",
       "0                            2       0   32               6   \n",
       "1                            1       0   34               2   \n",
       "2                            2       0   27               2   \n",
       "3                            2       0   61               2   \n",
       "4                            2       1   48               2   \n",
       "\n",
       "   MONTHS_IN_RESIDENCE  PERSONAL_MONTHLY_INCOME  QUANT_CARS  \\\n",
       "0                   15                    900.0           0   \n",
       "1                    1                    750.0           0   \n",
       "2                   10                    500.0           0   \n",
       "3                   10                    500.0           0   \n",
       "4                   12                   1200.0           0   \n",
       "\n",
       "   QUANT_BANKING_ACCOUNTS  QUANT_DEPENDANTS  TARGET_LABEL  \n",
       "0                       0                 1             0  \n",
       "1                       0                 0             0  \n",
       "2                       0                 0             1  \n",
       "3                       0                 0             1  \n",
       "4                       0                 0             0  "
      ]
     },
<<<<<<< HEAD
     "execution_count": 223,
=======
     "execution_count": 242,
>>>>>>> eaf74c204ed1eb8292e533ebb7217424d7130592
     "metadata": {},
     "output_type": "execute_result"
    }
   ],
   "source": [
    "final_df.head()"
   ]
  },
  {
   "cell_type": "code",
<<<<<<< HEAD
   "execution_count": 224,
   "id": "ddff1521",
=======
   "execution_count": 243,
   "id": "d7de4bdc",
>>>>>>> eaf74c204ed1eb8292e533ebb7217424d7130592
   "metadata": {},
   "outputs": [
    {
     "name": "stdout",
     "output_type": "stream",
     "text": [
      "['F' 'M' 'N']\n",
      "['Other' 'Paper' 'Web']\n",
      "['Delinquent' 'Non-Delinquent']\n"
     ]
    }
   ],
   "source": [
    "print(encoders['GENDER'].classes_)\n",
    "print(encoders['APPLICATION_SUBMISSION_TYPE'].classes_)\n",
    "print(encoders['TARGET_LABEL'].classes_)"
   ]
  },
  {
   "cell_type": "code",
<<<<<<< HEAD
   "execution_count": 225,
   "id": "e972387d",
=======
   "execution_count": 244,
   "id": "36ba9a76",
>>>>>>> eaf74c204ed1eb8292e533ebb7217424d7130592
   "metadata": {},
   "outputs": [
    {
     "data": {
      "text/plain": [
       "(49983, 9)"
      ]
     },
<<<<<<< HEAD
     "execution_count": 225,
=======
     "execution_count": 244,
>>>>>>> eaf74c204ed1eb8292e533ebb7217424d7130592
     "metadata": {},
     "output_type": "execute_result"
    }
   ],
   "source": [
    "#seperating feature matrix and target vector\n",
    "X = final_df.drop('TARGET_LABEL', axis = 1)\n",
    "y = final_df['TARGET_LABEL']\n",
    "X.shape"
   ]
  },
  {
   "cell_type": "code",
<<<<<<< HEAD
   "execution_count": 226,
   "id": "d3926088",
=======
   "execution_count": 245,
   "id": "f650ae3f",
>>>>>>> eaf74c204ed1eb8292e533ebb7217424d7130592
   "metadata": {},
   "outputs": [
    {
     "data": {
      "text/html": [
       "<div>\n",
       "<style scoped>\n",
       "    .dataframe tbody tr th:only-of-type {\n",
       "        vertical-align: middle;\n",
       "    }\n",
       "\n",
       "    .dataframe tbody tr th {\n",
       "        vertical-align: top;\n",
       "    }\n",
       "\n",
       "    .dataframe thead th {\n",
       "        text-align: right;\n",
       "    }\n",
       "</style>\n",
       "<table border=\"1\" class=\"dataframe\">\n",
       "  <thead>\n",
       "    <tr style=\"text-align: right;\">\n",
       "      <th></th>\n",
       "      <th>APPLICATION_SUBMISSION_TYPE</th>\n",
       "      <th>GENDER</th>\n",
       "      <th>AGE</th>\n",
       "      <th>MARITAL_STATUS</th>\n",
       "      <th>MONTHS_IN_RESIDENCE</th>\n",
       "      <th>PERSONAL_MONTHLY_INCOME</th>\n",
       "      <th>QUANT_CARS</th>\n",
       "      <th>QUANT_BANKING_ACCOUNTS</th>\n",
       "      <th>QUANT_DEPENDANTS</th>\n",
       "    </tr>\n",
       "  </thead>\n",
       "  <tbody>\n",
       "    <tr>\n",
       "      <th>0</th>\n",
       "      <td>2</td>\n",
       "      <td>0</td>\n",
       "      <td>32</td>\n",
       "      <td>6</td>\n",
       "      <td>15</td>\n",
       "      <td>900.0</td>\n",
       "      <td>0</td>\n",
       "      <td>0</td>\n",
       "      <td>1</td>\n",
       "    </tr>\n",
       "    <tr>\n",
       "      <th>1</th>\n",
       "      <td>1</td>\n",
       "      <td>0</td>\n",
       "      <td>34</td>\n",
       "      <td>2</td>\n",
       "      <td>1</td>\n",
       "      <td>750.0</td>\n",
       "      <td>0</td>\n",
       "      <td>0</td>\n",
       "      <td>0</td>\n",
       "    </tr>\n",
       "    <tr>\n",
       "      <th>2</th>\n",
       "      <td>2</td>\n",
       "      <td>0</td>\n",
       "      <td>27</td>\n",
       "      <td>2</td>\n",
       "      <td>10</td>\n",
       "      <td>500.0</td>\n",
       "      <td>0</td>\n",
       "      <td>0</td>\n",
       "      <td>0</td>\n",
       "    </tr>\n",
       "    <tr>\n",
       "      <th>3</th>\n",
       "      <td>2</td>\n",
       "      <td>0</td>\n",
       "      <td>61</td>\n",
       "      <td>2</td>\n",
       "      <td>10</td>\n",
       "      <td>500.0</td>\n",
       "      <td>0</td>\n",
       "      <td>0</td>\n",
       "      <td>0</td>\n",
       "    </tr>\n",
       "    <tr>\n",
       "      <th>4</th>\n",
       "      <td>2</td>\n",
       "      <td>1</td>\n",
       "      <td>48</td>\n",
       "      <td>2</td>\n",
       "      <td>12</td>\n",
       "      <td>1200.0</td>\n",
       "      <td>0</td>\n",
       "      <td>0</td>\n",
       "      <td>0</td>\n",
       "    </tr>\n",
       "  </tbody>\n",
       "</table>\n",
       "</div>"
      ],
      "text/plain": [
       "   APPLICATION_SUBMISSION_TYPE  GENDER  AGE  MARITAL_STATUS  \\\n",
       "0                            2       0   32               6   \n",
       "1                            1       0   34               2   \n",
       "2                            2       0   27               2   \n",
       "3                            2       0   61               2   \n",
       "4                            2       1   48               2   \n",
       "\n",
       "   MONTHS_IN_RESIDENCE  PERSONAL_MONTHLY_INCOME  QUANT_CARS  \\\n",
       "0                   15                    900.0           0   \n",
       "1                    1                    750.0           0   \n",
       "2                   10                    500.0           0   \n",
       "3                   10                    500.0           0   \n",
       "4                   12                   1200.0           0   \n",
       "\n",
       "   QUANT_BANKING_ACCOUNTS  QUANT_DEPENDANTS  \n",
       "0                       0                 1  \n",
       "1                       0                 0  \n",
       "2                       0                 0  \n",
       "3                       0                 0  \n",
       "4                       0                 0  "
      ]
     },
<<<<<<< HEAD
     "execution_count": 226,
=======
     "execution_count": 245,
>>>>>>> eaf74c204ed1eb8292e533ebb7217424d7130592
     "metadata": {},
     "output_type": "execute_result"
    }
   ],
   "source": [
    "X.head()"
   ]
  },
  {
   "cell_type": "code",
<<<<<<< HEAD
   "execution_count": 227,
   "id": "8ddc90eb",
=======
   "execution_count": 246,
   "id": "af299a3f",
>>>>>>> eaf74c204ed1eb8292e533ebb7217424d7130592
   "metadata": {},
   "outputs": [
    {
     "data": {
      "text/plain": [
       "0    0\n",
       "1    0\n",
       "2    1\n",
       "3    1\n",
       "4    0\n",
       "Name: TARGET_LABEL, dtype: int64"
      ]
     },
<<<<<<< HEAD
     "execution_count": 227,
=======
     "execution_count": 246,
>>>>>>> eaf74c204ed1eb8292e533ebb7217424d7130592
     "metadata": {},
     "output_type": "execute_result"
    }
   ],
   "source": [
    "y.head()"
   ]
  },
  {
   "cell_type": "code",
<<<<<<< HEAD
   "execution_count": 228,
   "id": "e3917161",
   "metadata": {},
   "outputs": [
    {
     "data": {
      "text/plain": [
       "1    36949\n",
       "0    13034\n",
       "Name: TARGET_LABEL, dtype: int64"
      ]
     },
     "execution_count": 228,
     "metadata": {},
     "output_type": "execute_result"
    }
   ],
   "source": [
    "y.value_counts()"
   ]
  },
  {
   "cell_type": "code",
   "execution_count": 229,
   "id": "d5a30675",
=======
   "execution_count": 247,
   "id": "f34d4f0f",
>>>>>>> eaf74c204ed1eb8292e533ebb7217424d7130592
   "metadata": {},
   "outputs": [],
   "source": [
    "from sklearn.model_selection import train_test_split\n",
    "\n",
    "# Spliting the data into training and test sets\n",
    "X_train, X_test, y_train, y_test = train_test_split(X, y, test_size=0.2, random_state=42)"
   ]
  },
  {
   "cell_type": "code",
<<<<<<< HEAD
   "execution_count": 230,
   "id": "6cc9f836",
   "metadata": {},
   "outputs": [
    {
     "data": {
      "text/plain": [
       "1    29542\n",
       "0    10444\n",
       "Name: TARGET_LABEL, dtype: int64"
      ]
     },
     "execution_count": 230,
     "metadata": {},
     "output_type": "execute_result"
    }
   ],
   "source": [
    "y_train.value_counts()"
   ]
  },
  {
   "cell_type": "code",
   "execution_count": 231,
   "id": "aaee7743",
=======
   "execution_count": 248,
   "id": "8ccc91c1",
>>>>>>> eaf74c204ed1eb8292e533ebb7217424d7130592
   "metadata": {},
   "outputs": [
    {
     "name": "stdout",
     "output_type": "stream",
     "text": [
      "X_train: 39986\n",
      "X_test: 9997\n"
     ]
    }
   ],
   "source": [
    "print(\"X_train:\",X_train.shape[0])\n",
    "print(\"X_test:\",X_test.shape[0])"
   ]
  },
  {
   "cell_type": "code",
<<<<<<< HEAD
   "execution_count": 232,
   "id": "aa13ac9c",
=======
   "execution_count": 249,
   "id": "74c4ad92",
>>>>>>> eaf74c204ed1eb8292e533ebb7217424d7130592
   "metadata": {},
   "outputs": [],
   "source": [
    "from sklearn.model_selection import cross_validate\n",
    "from sklearn.linear_model import LogisticRegression\n",
    "from sklearn.tree import DecisionTreeClassifier\n",
    "from sklearn.ensemble import RandomForestClassifier\n",
<<<<<<< HEAD
    "from sklearn.svm import SVC\n",
=======
>>>>>>> eaf74c204ed1eb8292e533ebb7217424d7130592
    "from sklearn.metrics import accuracy_score, precision_score, recall_score, f1_score\n",
    "from sklearn.model_selection import train_test_split\n"
   ]
  },
  {
   "cell_type": "code",
<<<<<<< HEAD
   "execution_count": 233,
   "id": "fb1a982c",
=======
   "execution_count": null,
   "id": "9ae3e49d",
>>>>>>> eaf74c204ed1eb8292e533ebb7217424d7130592
   "metadata": {},
   "outputs": [
    {
     "name": "stdout",
     "output_type": "stream",
     "text": [
      "Logistic Regression\n",
      "Training Accuracy: 0.7387835828391814\n",
      "Training Precision: 0.7388020529394479\n",
      "Training Recall: 0.9999661475964793\n",
      "Training F1-score: 0.8497705897899588\n",
      "---------------\n",
      "Decision Tree\n",
<<<<<<< HEAD
      "Training Accuracy: 0.607537808664272\n",
      "Training Precision: 0.7438210795133601\n",
      "Training Recall: 0.7150497017437139\n",
      "Training F1-score: 0.7291357310355816\n",
      "---------------\n",
      "Random Forest\n",
      "Training Accuracy: 0.6992697774243462\n",
      "Training Precision: 0.7442639309714549\n",
      "Training Recall: 0.903358009501585\n",
      "Training F1-score: 0.816127487942628\n",
=======
      "Training Accuracy: 0.6066375148064155\n",
      "Training Precision: 0.743499826251548\n",
      "Training Recall: 0.7138310839528151\n",
      "Training F1-score: 0.7283569799307965\n",
>>>>>>> eaf74c204ed1eb8292e533ebb7217424d7130592
      "---------------\n"
     ]
    }
   ],
   "source": [
    "models = [\n",
    "    ('Logistic Regression', LogisticRegression()),\n",
    "    ('Decision Tree', DecisionTreeClassifier()),\n",
    "    ('Random Forest', RandomForestClassifier())\n",
    "]\n",
    "\n",
<<<<<<< HEAD
    "# Evaluating each model on the training set using cross-validation\n",
=======
    "# Evaluate each model on the training set using cross-validation\n",
>>>>>>> eaf74c204ed1eb8292e533ebb7217424d7130592
    "for name, model in models:\n",
    "    cv_results = cross_validate(model, X_train, y_train, cv=10, scoring=['accuracy', 'precision', 'recall', 'f1'])\n",
    "    print(name)\n",
    "    print(f\"Training Accuracy: {cv_results['test_accuracy'].mean()}\")\n",
    "    print(f\"Training Precision: {cv_results['test_precision'].mean()}\")\n",
    "    print(f\"Training Recall: {cv_results['test_recall'].mean()}\")\n",
    "    print(f\"Training F1-score: {cv_results['test_f1'].mean()}\")\n",
    "    print('---------------')\n",
    "    \n"
   ]
  },
  {
   "cell_type": "code",
<<<<<<< HEAD
   "execution_count": 234,
   "id": "4c20b345",
   "metadata": {},
   "outputs": [],
   "source": [
    "#since Logistic Regression seems to perform best on all the evaluation metrics, we choose Logistic Regression\n",
    "#and evlaute it on test data set"
   ]
  },
  {
   "cell_type": "code",
   "execution_count": 299,
   "id": "4387bfe9",
   "metadata": {
    "scrolled": true
   },
   "outputs": [
    {
     "name": "stdout",
     "output_type": "stream",
     "text": [
      "Accuracy: 0.7409222766830049\n",
      "Precision: 0.7409222766830049\n",
      "Recall: 1.0\n",
      "F1-score: 0.8511836359457596\n"
     ]
    }
   ],
   "source": [
    "# Defining the Logistic Regression model\n",
    "logistic_regression = LogisticRegression()\n",
    "\n",
    "# Training the model on the training dataset\n",
    "logistic_regression.fit(X_train, y_train)\n",
    "\n",
    "# Evaluating the performance of the model on the test dataset\n",
    "y_pred = logistic_regression.predict(X_test)\n",
    "\n",
    "print(\"Accuracy:\", accuracy_score(y_test, y_pred))\n",
    "print(\"Precision:\", precision_score(y_test, y_pred))\n",
    "print(\"Recall:\", recall_score(y_test, y_pred))\n",
    "print(\"F1-score:\", f1_score(y_test, y_pred))"
   ]
  },
  {
   "cell_type": "markdown",
   "id": "d20c4ab2",
   "metadata": {},
   "source": [
    "### Trying hyperparameter tuning"
   ]
  },
  {
   "cell_type": "code",
   "execution_count": 300,
   "id": "83fc7d31",
   "metadata": {},
   "outputs": [],
   "source": [
    "# from sklearn.model_selection import GridSearchCV\n",
    "\n",
    "# # Define the hyperparameter grid to search\n",
    "# param_grid = {\n",
    "#     'penalty': ['l1', 'l2'],\n",
    "#     'C': [0.1, 1, 10]\n",
    "# }\n",
    "\n",
    "# # Create a logistic regression model\n",
    "# model = LogisticRegression()\n",
    "\n",
    "# # Create a grid search object\n",
    "# grid_search = GridSearchCV(model, param_grid=param_grid, cv=5, scoring='f1')\n",
    "\n",
    "# # Fit the grid search object to the training data\n",
    "# grid_search.fit(X_train, y_train)\n",
    "\n",
    "# # Print the best hyperparameters and the corresponding F1 score\n",
    "# print(\"Best hyperparameters:\", grid_search.best_params_)\n",
    "# print(\"Best F1-score:\", grid_search.best_score_)\n"
   ]
  },
  {
   "cell_type": "code",
   "execution_count": 301,
   "id": "4131f41c",
   "metadata": {},
   "outputs": [
    {
     "data": {
      "text/plain": [
       "Index(['APPLICATION_SUBMISSION_TYPE', 'GENDER', 'AGE', 'MARITAL_STATUS',\n",
       "       'MONTHS_IN_RESIDENCE', 'PERSONAL_MONTHLY_INCOME', 'QUANT_CARS',\n",
       "       'QUANT_BANKING_ACCOUNTS', 'QUANT_DEPENDANTS'],\n",
       "      dtype='object')"
      ]
     },
     "execution_count": 301,
     "metadata": {},
     "output_type": "execute_result"
    }
   ],
   "source": [
    "X_test.columns"
   ]
  },
  {
   "cell_type": "code",
   "execution_count": 302,
   "id": "7d5067e9",
   "metadata": {},
   "outputs": [
    {
     "name": "stderr",
     "output_type": "stream",
     "text": [
      "/Users/deepakbudha/opt/anaconda3/lib/python3.8/site-packages/sklearn/base.py:450: UserWarning: X does not have valid feature names, but LogisticRegression was fitted with feature names\n",
      "  warnings.warn(\n"
     ]
    }
   ],
   "source": [
    "input_data = np.array([2,0,32,6,15,900,0,0,1]).reshape(1, -1)\n",
    "y_pred = logistic_regression.predict(input_data)\n",
    "\n"
   ]
  },
  {
   "cell_type": "code",
   "execution_count": 303,
   "id": "c1809cca",
   "metadata": {},
   "outputs": [
    {
     "data": {
      "text/html": [
       "Based on the information provided, the user is most likely to be <b>Non-<b>Delinquent</b></b>"
      ],
      "text/plain": [
       "<IPython.core.display.HTML object>"
      ]
     },
     "metadata": {},
     "output_type": "display_data"
    }
   ],
   "source": [
    "#displaying the prediction on our input data\n",
    "from IPython.display import HTML\n",
    "\n",
    "bold_words = ['Non-Delinquent', 'Delinquent']\n",
    "if y_pred == 1:\n",
    "    answer = \"Based on the information provided, the user is most likely to be Non-Delinquent\"\n",
    "    for word in bold_words:\n",
    "        answer = answer.replace(word, f\"<b>{word}</b>\")\n",
    "    \n",
    "    display(HTML(answer))\n",
    "    \n",
    "else:\n",
    "    answer = \"Based on the information provided, the user is most likely to be Delinquent\"\n",
    "    for word in bold_words:\n",
    "        answer = answer.replace(word, f\"<b>{word}</b>\")\n",
    "    display(HTML(answer))"
   ]
  },
  {
   "cell_type": "code",
   "execution_count": 304,
   "id": "7d1a250e",
   "metadata": {},
   "outputs": [],
   "source": [
    "# our model always seems to predict 1(Non-deliquent), which might be the result of our inbalanced data set."
   ]
  },
  {
   "cell_type": "markdown",
   "id": "9cf9b843",
   "metadata": {},
   "source": [
    "# Building a ML model with Balanced Dataset"
   ]
  },
  {
   "cell_type": "code",
   "execution_count": 305,
   "id": "6cfc6a74",
   "metadata": {},
   "outputs": [],
   "source": [
    "# We can either oversample the minority class (target = 0) or undersample the majority class (target = 1). \n",
    "# Oversampling involves duplicating samples from the minority class to balance the dataset, \n",
    "# while undersampling involves removing samples from the majority class. \n"
   ]
  },
  {
   "cell_type": "code",
   "execution_count": 306,
   "id": "97a7ba60",
   "metadata": {},
   "outputs": [],
   "source": [
    "#Both oversampling and undersampling is likley to yeild the same result. We will build a ML model with\n",
    "#both oversampled dataset and undersampled dataset"
   ]
  },
  {
   "cell_type": "code",
   "execution_count": 307,
   "id": "14ddb9b2",
   "metadata": {},
   "outputs": [],
   "source": [
    "# we make a copy of our final df \n",
    "unbalanced_df = final_df.copy()"
   ]
  },
  {
   "cell_type": "code",
   "execution_count": 308,
   "id": "bd6b3c46",
   "metadata": {},
   "outputs": [
    {
     "data": {
      "text/html": [
       "<div>\n",
       "<style scoped>\n",
       "    .dataframe tbody tr th:only-of-type {\n",
       "        vertical-align: middle;\n",
       "    }\n",
       "\n",
       "    .dataframe tbody tr th {\n",
       "        vertical-align: top;\n",
       "    }\n",
       "\n",
       "    .dataframe thead th {\n",
       "        text-align: right;\n",
       "    }\n",
       "</style>\n",
       "<table border=\"1\" class=\"dataframe\">\n",
       "  <thead>\n",
       "    <tr style=\"text-align: right;\">\n",
       "      <th></th>\n",
       "      <th>APPLICATION_SUBMISSION_TYPE</th>\n",
       "      <th>GENDER</th>\n",
       "      <th>AGE</th>\n",
       "      <th>MARITAL_STATUS</th>\n",
       "      <th>MONTHS_IN_RESIDENCE</th>\n",
       "      <th>PERSONAL_MONTHLY_INCOME</th>\n",
       "      <th>QUANT_CARS</th>\n",
       "      <th>QUANT_BANKING_ACCOUNTS</th>\n",
       "      <th>QUANT_DEPENDANTS</th>\n",
       "      <th>TARGET_LABEL</th>\n",
       "    </tr>\n",
       "  </thead>\n",
       "  <tbody>\n",
       "    <tr>\n",
       "      <th>0</th>\n",
       "      <td>2</td>\n",
       "      <td>0</td>\n",
       "      <td>32</td>\n",
       "      <td>6</td>\n",
       "      <td>15</td>\n",
       "      <td>900.0</td>\n",
       "      <td>0</td>\n",
       "      <td>0</td>\n",
       "      <td>1</td>\n",
       "      <td>0</td>\n",
       "    </tr>\n",
       "    <tr>\n",
       "      <th>1</th>\n",
       "      <td>1</td>\n",
       "      <td>0</td>\n",
       "      <td>34</td>\n",
       "      <td>2</td>\n",
       "      <td>1</td>\n",
       "      <td>750.0</td>\n",
       "      <td>0</td>\n",
       "      <td>0</td>\n",
       "      <td>0</td>\n",
       "      <td>0</td>\n",
       "    </tr>\n",
       "    <tr>\n",
       "      <th>2</th>\n",
       "      <td>2</td>\n",
       "      <td>0</td>\n",
       "      <td>27</td>\n",
       "      <td>2</td>\n",
       "      <td>10</td>\n",
       "      <td>500.0</td>\n",
       "      <td>0</td>\n",
       "      <td>0</td>\n",
       "      <td>0</td>\n",
       "      <td>1</td>\n",
       "    </tr>\n",
       "    <tr>\n",
       "      <th>3</th>\n",
       "      <td>2</td>\n",
       "      <td>0</td>\n",
       "      <td>61</td>\n",
       "      <td>2</td>\n",
       "      <td>10</td>\n",
       "      <td>500.0</td>\n",
       "      <td>0</td>\n",
       "      <td>0</td>\n",
       "      <td>0</td>\n",
       "      <td>1</td>\n",
       "    </tr>\n",
       "    <tr>\n",
       "      <th>4</th>\n",
       "      <td>2</td>\n",
       "      <td>1</td>\n",
       "      <td>48</td>\n",
       "      <td>2</td>\n",
       "      <td>12</td>\n",
       "      <td>1200.0</td>\n",
       "      <td>0</td>\n",
       "      <td>0</td>\n",
       "      <td>0</td>\n",
       "      <td>0</td>\n",
       "    </tr>\n",
       "  </tbody>\n",
       "</table>\n",
       "</div>"
      ],
      "text/plain": [
       "   APPLICATION_SUBMISSION_TYPE  GENDER  AGE  MARITAL_STATUS  \\\n",
       "0                            2       0   32               6   \n",
       "1                            1       0   34               2   \n",
       "2                            2       0   27               2   \n",
       "3                            2       0   61               2   \n",
       "4                            2       1   48               2   \n",
       "\n",
       "   MONTHS_IN_RESIDENCE  PERSONAL_MONTHLY_INCOME  QUANT_CARS  \\\n",
       "0                   15                    900.0           0   \n",
       "1                    1                    750.0           0   \n",
       "2                   10                    500.0           0   \n",
       "3                   10                    500.0           0   \n",
       "4                   12                   1200.0           0   \n",
       "\n",
       "   QUANT_BANKING_ACCOUNTS  QUANT_DEPENDANTS  TARGET_LABEL  \n",
       "0                       0                 1             0  \n",
       "1                       0                 0             0  \n",
       "2                       0                 0             1  \n",
       "3                       0                 0             1  \n",
       "4                       0                 0             0  "
      ]
     },
     "execution_count": 308,
     "metadata": {},
     "output_type": "execute_result"
    }
   ],
   "source": [
    "unbalanced_df.head()"
   ]
  },
  {
   "cell_type": "code",
   "execution_count": 309,
   "id": "0f38d959",
   "metadata": {},
   "outputs": [],
   "source": [
    "X_unbalanced = unbalanced_df.drop('TARGET_LABEL', axis = 1)\n",
    "y_unbalanced = unbalanced_df['TARGET_LABEL']\n"
   ]
  },
  {
   "cell_type": "markdown",
   "id": "daab9813",
   "metadata": {},
   "source": [
    "## Oversampling(duplicating the samples from the minority class i.e target_value = 0)"
   ]
  },
  {
   "cell_type": "code",
   "execution_count": 310,
   "id": "c1ca839e",
   "metadata": {
    "scrolled": true
   },
   "outputs": [
    {
     "name": "stdout",
     "output_type": "stream",
     "text": [
      "Class distribution after resampling: 0    36949\n",
      "1    36949\n",
      "Name: TARGET_LABEL, dtype: int64\n"
     ]
    }
   ],
   "source": [
    "from imblearn.over_sampling import RandomOverSampler\n",
    "\n",
    "# Creating an instance of RandomOverSampler\n",
    "oversampler = RandomOverSampler(random_state=42)\n",
    "\n",
    "# Resampling the data\n",
    "X_oversampled, y_oversampled = oversampler.fit_resample(X_unbalanced, y_unbalanced)\n",
    "\n",
    "# Checking the class distribution after resampling\n",
    "print(\"Class distribution after resampling:\", y_oversampled.value_counts())"
   ]
  },
  {
   "cell_type": "code",
   "execution_count": 311,
   "id": "430541d7",
   "metadata": {},
   "outputs": [],
   "source": [
    "#splitting the oversampled data\n",
    "X_over_train, X_over_test, y_over_train, y_over_test = train_test_split(X_oversampled, y_oversampled, test_size=0.2, random_state=42)"
   ]
  },
  {
   "cell_type": "code",
   "execution_count": 312,
   "id": "336800f9",
   "metadata": {},
   "outputs": [
    {
     "name": "stdout",
     "output_type": "stream",
     "text": [
      "Logistic Regression\n",
      "Training Accuracy: 0.5212959216423865\n",
      "Training Precision: 0.516260964776891\n",
      "Training Recall: 0.7925285194906639\n",
      "Training F1-score: 0.6172504492239115\n",
      "---------------\n",
      "Decision Tree\n",
      "Training Accuracy: 0.7912142111826098\n",
      "Training Precision: 0.8760489525271524\n",
      "Training Recall: 0.6776361359837803\n",
      "Training F1-score: 0.7641331191908038\n",
      "---------------\n",
      "Random Forest\n",
      "Training Accuracy: 0.8241653367989636\n",
      "Training Precision: 0.874235730691858\n",
      "Training Recall: 0.7565663348821716\n",
      "Training F1-score: 0.811126002622635\n",
      "---------------\n"
     ]
    }
   ],
   "source": [
    "#evaluating the performance of different ML algorthims on the oversampled dataset\n",
    "\n",
    "models = [\n",
    "    ('Logistic Regression', LogisticRegression()),\n",
    "    ('Decision Tree', DecisionTreeClassifier()),\n",
    "    ('Random Forest', RandomForestClassifier())\n",
    "]\n",
    "\n",
    "# Evaluating each model on the training set using cross-validation\n",
    "for name, model in models:\n",
    "    cv_results = cross_validate(model, X_over_train, y_over_train, cv=10, scoring=['accuracy', 'precision', 'recall', 'f1'])\n",
    "    print(name)\n",
    "    print(f\"Training Accuracy: {cv_results['test_accuracy'].mean()}\")\n",
    "    print(f\"Training Precision: {cv_results['test_precision'].mean()}\")\n",
    "    print(f\"Training Recall: {cv_results['test_recall'].mean()}\")\n",
    "    print(f\"Training F1-score: {cv_results['test_f1'].mean()}\")\n",
    "    print('---------------')\n",
    "    \n"
   ]
  },
  {
   "cell_type": "code",
   "execution_count": 313,
   "id": "8866844d",
   "metadata": {},
   "outputs": [],
   "source": [
    "#since RandomForestClassifier seems to work better with oversampled dataset. Now we will evaluate it's performance\n",
    "#with our test data set "
   ]
  },
  {
   "cell_type": "code",
   "execution_count": 314,
   "id": "a7e4574b",
   "metadata": {},
   "outputs": [
    {
     "name": "stdout",
     "output_type": "stream",
     "text": [
      "Accuracy: 0.838362652232747\n",
      "Precision: 0.8978113682884585\n",
      "Recall: 0.7661918839021769\n",
      "F1-score: 0.8267962009715073\n"
     ]
    }
   ],
   "source": [
    "# Defining the RandomForestClassifier model\n",
    "model = RandomForestClassifier()\n",
    "\n",
    "# Training the model on the training dataset\n",
    "model.fit(X_over_train, y_over_train)\n",
    "\n",
    "# Evaluating the performance of the model on the test dataset\n",
    "y_pred = model.predict(X_over_test)\n",
    "\n",
    "print(\"Accuracy:\", accuracy_score(y_over_test, y_pred))\n",
    "print(\"Precision:\", precision_score(y_over_test, y_pred))\n",
    "print(\"Recall:\", recall_score(y_over_test, y_pred))\n",
    "print(\"F1-score:\", f1_score(y_over_test, y_pred))"
   ]
  },
  {
   "cell_type": "code",
   "execution_count": 315,
   "id": "0011804f",
   "metadata": {},
   "outputs": [
    {
     "data": {
      "text/plain": [
       "Index(['APPLICATION_SUBMISSION_TYPE', 'GENDER', 'AGE', 'MARITAL_STATUS',\n",
       "       'MONTHS_IN_RESIDENCE', 'PERSONAL_MONTHLY_INCOME', 'QUANT_CARS',\n",
       "       'QUANT_BANKING_ACCOUNTS', 'QUANT_DEPENDANTS'],\n",
       "      dtype='object')"
      ]
     },
     "execution_count": 315,
     "metadata": {},
     "output_type": "execute_result"
    }
   ],
   "source": [
    "X_train.columns"
   ]
  },
  {
   "cell_type": "code",
   "execution_count": 316,
   "id": "de33e285",
   "metadata": {},
   "outputs": [
    {
     "name": "stderr",
     "output_type": "stream",
     "text": [
      "/Users/deepakbudha/opt/anaconda3/lib/python3.8/site-packages/sklearn/base.py:450: UserWarning: X does not have valid feature names, but RandomForestClassifier was fitted with feature names\n",
      "  warnings.warn(\n"
     ]
    }
   ],
   "source": [
    "input_data = np.array([1,1,30,3,15,1500,1,1,1]).reshape(1, -1)\n",
    "y_pred = model.predict(input_data)\n",
    "\n"
   ]
  },
  {
   "cell_type": "code",
   "execution_count": 317,
   "id": "7b1db6df",
   "metadata": {},
   "outputs": [
    {
     "data": {
      "text/html": [
       "Based on the information provided, the user is most likely to be <b>Non-<b>Delinquent</b></b>"
      ],
      "text/plain": [
       "<IPython.core.display.HTML object>"
      ]
     },
     "metadata": {},
     "output_type": "display_data"
    }
   ],
   "source": [
    "#displaying the prediction on our input data\n",
    "from IPython.display import HTML\n",
    "\n",
    "bold_words = ['Non-Delinquent', 'Delinquent']\n",
    "if y_pred == 1:\n",
    "    answer = \"Based on the information provided, the user is most likely to be Non-Delinquent\"\n",
    "    for word in bold_words:\n",
    "        answer = answer.replace(word, f\"<b>{word}</b>\")\n",
    "    \n",
    "    display(HTML(answer))\n",
    "    \n",
    "else:\n",
    "    answer = \"Based on the information provided, the user is most likely to be Delinquent\"\n",
    "    for word in bold_words:\n",
    "        answer = answer.replace(word, f\"<b>{word}</b>\")\n",
    "    display(HTML(answer))"
   ]
  },
  {
   "cell_type": "markdown",
   "id": "a3d6165d",
   "metadata": {},
   "source": [
    "## Undersampling(removing samples from the majority class i.e traget_value = 1)"
   ]
  },
  {
   "cell_type": "code",
   "execution_count": 318,
   "id": "91d8852a",
   "metadata": {},
   "outputs": [
    {
     "name": "stdout",
     "output_type": "stream",
     "text": [
      "Class distribution after resampling: 0    13034\n",
      "1    13034\n",
      "Name: TARGET_LABEL, dtype: int64\n"
     ]
    }
   ],
   "source": [
    "from imblearn.under_sampling import RandomUnderSampler\n",
    "\n",
    "# Creating an instance of RandomOverSampler\n",
    "undersampler = RandomUnderSampler(random_state=42)\n",
    "\n",
    "# Resampling the data\n",
    "X_undersampled, y_undersampled = undersampler.fit_resample(X_unbalanced, y_unbalanced)\n",
    "\n",
    "# Checking the class distribution after resampling\n",
    "print(\"Class distribution after resampling:\", y_undersampled.value_counts())"
   ]
  },
  {
   "cell_type": "code",
   "execution_count": 319,
   "id": "7ae0767d",
   "metadata": {},
   "outputs": [],
   "source": [
    "#splitting the oversampled data\n",
    "X_under_train, X_under_test, y_under_train, y_under_test = train_test_split(X_undersampled, y_undersampled, test_size=0.2, random_state=42)"
   ]
  },
  {
   "cell_type": "code",
   "execution_count": 320,
   "id": "743694c6",
   "metadata": {},
   "outputs": [
    {
     "name": "stdout",
     "output_type": "stream",
     "text": [
      "Logistic Regression\n",
      "Training Accuracy: 0.5076716306724516\n",
      "Training Precision: 0.5064606551183635\n",
      "Training Recall: 0.9245821394460363\n",
      "Training F1-score: 0.6505584368542447\n",
      "---------------\n",
      "Decision Tree\n",
      "Training Accuracy: 0.5109788909045343\n",
      "Training Precision: 0.5134198695849768\n",
      "Training Recall: 0.5043413752123479\n",
      "Training F1-score: 0.5088096959252985\n",
      "---------------\n",
      "Random Forest\n",
      "Training Accuracy: 0.5258455249223439\n",
      "Training Precision: 0.5283907830443486\n",
      "Training Recall: 0.5190443251164722\n",
      "Training F1-score: 0.523602669228069\n",
      "---------------\n"
     ]
    }
   ],
   "source": [
    "#evaluating the performance of different ML algorthims on the oversampled dataset\n",
    "\n",
    "models = [\n",
    "    ('Logistic Regression', LogisticRegression()),\n",
    "    ('Decision Tree', DecisionTreeClassifier()),\n",
    "    ('Random Forest', RandomForestClassifier())\n",
    "]\n",
    "\n",
    "# Evaluating each model on the training set using cross-validation\n",
    "for name, model in models:\n",
    "    cv_results = cross_validate(model, X_under_train, y_under_train, cv=10, scoring=['accuracy', 'precision', 'recall', 'f1'])\n",
    "    print(name)\n",
    "    print(f\"Training Accuracy: {cv_results['test_accuracy'].mean()}\")\n",
    "    print(f\"Training Precision: {cv_results['test_precision'].mean()}\")\n",
    "    print(f\"Training Recall: {cv_results['test_recall'].mean()}\")\n",
    "    print(f\"Training F1-score: {cv_results['test_f1'].mean()}\")\n",
    "    print('---------------')\n",
    "    "
   ]
  },
  {
   "cell_type": "code",
   "execution_count": 321,
   "id": "cfedfcb8",
   "metadata": {},
   "outputs": [],
   "source": [
    "#None of the algorithms seems to work better with oversampled dataset. we will evaluate their performance\n",
    "#with our test data set anyway"
   ]
  },
  {
   "cell_type": "code",
   "execution_count": 322,
   "id": "b7afdcfd",
   "metadata": {},
   "outputs": [
    {
     "name": "stdout",
     "output_type": "stream",
     "text": [
      "Accuracy: 0.5350978135788262\n",
      "Precision: 0.527258257063271\n",
      "Recall: 0.5173760249902382\n",
      "F1-score: 0.5222703981080015\n"
     ]
    }
   ],
   "source": [
    "# Defining the Logistic Regression model\n",
    "modelRandom = RandomForestClassifier()\n",
    "\n",
    "# Training the model on the training dataset\n",
    "modelRandom.fit(X_under_train, y_under_train)\n",
    "\n",
    "# Evaluating the performance of the model on the test dataset\n",
    "y_pred = modelRandom.predict(X_under_test)\n",
    "\n",
    "print(\"Accuracy:\", accuracy_score(y_under_test, y_pred))\n",
    "print(\"Precision:\", precision_score(y_under_test, y_pred))\n",
    "print(\"Recall:\", recall_score(y_under_test, y_pred))\n",
    "print(\"F1-score:\", f1_score(y_under_test, y_pred))"
   ]
  },
  {
   "cell_type": "code",
   "execution_count": 323,
   "id": "908e26f1",
   "metadata": {},
   "outputs": [
    {
     "data": {
      "text/plain": [
       "Index(['APPLICATION_SUBMISSION_TYPE', 'GENDER', 'AGE', 'MARITAL_STATUS',\n",
       "       'MONTHS_IN_RESIDENCE', 'PERSONAL_MONTHLY_INCOME', 'QUANT_CARS',\n",
       "       'QUANT_BANKING_ACCOUNTS', 'QUANT_DEPENDANTS'],\n",
       "      dtype='object')"
      ]
     },
     "execution_count": 323,
     "metadata": {},
     "output_type": "execute_result"
    }
   ],
   "source": [
    "X_under_train.columns"
   ]
  },
  {
   "cell_type": "code",
   "execution_count": 324,
   "id": "d77263f1",
   "metadata": {},
   "outputs": [
    {
     "name": "stderr",
     "output_type": "stream",
     "text": [
      "/Users/deepakbudha/opt/anaconda3/lib/python3.8/site-packages/sklearn/base.py:450: UserWarning: X does not have valid feature names, but RandomForestClassifier was fitted with feature names\n",
      "  warnings.warn(\n"
     ]
    }
   ],
   "source": [
    "input_data = np.array([1,1,30,3,15,1500,1,1,1]).reshape(1, -1)\n",
    "y_pred = modelRandom.predict(input_data)"
   ]
  },
  {
   "cell_type": "code",
   "execution_count": 325,
   "id": "a7563729",
   "metadata": {},
   "outputs": [
    {
     "data": {
      "text/html": [
       "Based on the information provided, the user is most likely to be <b>Non-<b>Delinquent</b></b>"
      ],
      "text/plain": [
       "<IPython.core.display.HTML object>"
      ]
     },
     "metadata": {},
     "output_type": "display_data"
    }
   ],
   "source": [
    "#displaying the prediction on our input data\n",
    "from IPython.display import HTML\n",
    "\n",
    "bold_words = ['Non-Delinquent', 'Delinquent']\n",
    "if y_pred == 1:\n",
    "    answer = \"Based on the information provided, the user is most likely to be Non-Delinquent\"\n",
    "    for word in bold_words:\n",
    "        answer = answer.replace(word, f\"<b>{word}</b>\")\n",
    "    \n",
    "    display(HTML(answer))\n",
    "    \n",
    "else:\n",
    "    answer = \"Based on the information provided, the user is most likely to be Delinquent\"\n",
    "    for word in bold_words:\n",
    "        answer = answer.replace(word, f\"<b>{word}</b>\")\n",
    "    display(HTML(answer))"
   ]
  },
  {
   "cell_type": "markdown",
   "id": "af28b839",
   "metadata": {},
   "source": [
    "## After evaluating different ml models on our input, machine learning model trained on balanced oversampled data set seems to work better,  so we save that model\n"
   ]
  },
  {
   "cell_type": "code",
   "execution_count": 327,
   "id": "56c77e6d",
   "metadata": {},
   "outputs": [],
   "source": [
    "#saving our ml model\n",
    "import pickle\n",
    "\n",
    "# Save the model to a file\n",
    "with open('model_file.pickle', 'wb') as f:\n",
    "    pickle.dump(model, f)"
   ]
  },
  {
   "cell_type": "code",
   "execution_count": null,
   "id": "6c1a6c55",
=======
   "execution_count": null,
   "id": "c34c1b8f",
>>>>>>> eaf74c204ed1eb8292e533ebb7217424d7130592
   "metadata": {},
   "outputs": [],
   "source": []
  }
 ],
 "metadata": {
  "kernelspec": {
   "display_name": "Python 3 (ipykernel)",
   "language": "python",
   "name": "python3"
  },
  "language_info": {
   "codemirror_mode": {
    "name": "ipython",
    "version": 3
   },
   "file_extension": ".py",
   "mimetype": "text/x-python",
   "name": "python",
   "nbconvert_exporter": "python",
   "pygments_lexer": "ipython3",
   "version": "3.8.5"
  }
 },
 "nbformat": 4,
 "nbformat_minor": 5
}
